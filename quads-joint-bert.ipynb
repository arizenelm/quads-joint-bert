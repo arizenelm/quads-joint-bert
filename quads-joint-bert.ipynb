{
 "cells": [
  {
   "cell_type": "code",
   "execution_count": 1,
   "metadata": {},
   "outputs": [],
   "source": [
    "import pandas as pd\n",
    "import numpy as np\n",
    "import matplotlib.pyplot as plt\n",
    "import seaborn as sns\n",
    "from sklearn.model_selection import train_test_split\n",
    "from sklearn.metrics import confusion_matrix, classification_report, precision_recall_curve\n",
    "from collections import defaultdict, OrderedDict\n",
    "\n",
    "import transformers\n",
    "from transformers import BertModel, BertTokenizer, AdamW, get_linear_schedule_with_warmup\n",
    "import torch\n",
    "from torch import nn, optim\n",
    "from torch.utils.data import Dataset, DataLoader\n",
    "\n",
    "# Misc.\n",
    "import warnings\n",
    "warnings.filterwarnings('ignore')"
   ]
  },
  {
   "cell_type": "code",
   "execution_count": 2,
   "metadata": {},
   "outputs": [],
   "source": [
    "import os\n",
    "os.environ['CUDA_VISIBLE_DEVICES'] = '0'"
   ]
  },
  {
   "cell_type": "code",
   "execution_count": 3,
   "metadata": {},
   "outputs": [],
   "source": [
    "# Setting\n",
    "\n",
    "# Graph Designs\n",
    "#sns.set(style='whitegrid', palette='muted', font_scale=1.2)\n",
    "#HAPPY_COLORS_PALETTE = [\"#01BEFE\", \"#FFDD00\", \"#FF7D00\", \"#FF006D\", \"#ADFF02\", \"#8F00FF\"]\n",
    "#sns.set_palette(sns.color_palette(HAPPY_COLORS_PALETTE))\n",
    "#plt.rcParams['figure.figsize'] = 12, 8\n",
    "#\n",
    "## Ser random seed\n",
    "#RANDOM_SEED = 51\n",
    "#np.random.seed(RANDOM_SEED)\n",
    "#torch.manual_seed(RANDOM_SEED)\n",
    "\n",
    "# Set GPU\n",
    "device = torch.device(\"cuda\" if torch.cuda.is_available() else \"cpu\")"
   ]
  },
  {
   "cell_type": "code",
   "execution_count": 4,
   "metadata": {},
   "outputs": [
    {
     "name": "stdout",
     "output_type": "stream",
     "text": [
      "True\n",
      "<frozen runpy>:128: RuntimeWarning: 'torch.utils.collect_env' found in sys.modules after import of package 'torch.utils', but prior to execution of 'torch.utils.collect_env'; this may result in unpredictable behaviour\n",
      "Collecting environment information...\n",
      "/media/arizenelm/a72f52e2-dbf5-4f98-aec4-590ed54c7b51/arizenelm.old/IR/venv/lib/python3.11/site-packages/torch/cuda/__init__.py:118: UserWarning: CUDA initialization: CUDA unknown error - this may be due to an incorrectly set up environment, e.g. changing env variable CUDA_VISIBLE_DEVICES after program start. Setting the available devices to be zero. (Triggered internally at ../c10/cuda/CUDAFunctions.cpp:108.)\n",
      "  return torch._C._cuda_getDeviceCount() > 0\n",
      "PyTorch version: 2.3.0+cu118\n",
      "Is debug build: False\n",
      "CUDA used to build PyTorch: 11.8\n",
      "ROCM used to build PyTorch: N/A\n",
      "\n",
      "OS: Debian GNU/Linux 12 (bookworm) (x86_64)\n",
      "GCC version: (Debian 12.2.0-14) 12.2.0\n",
      "Clang version: 15.0.6\n",
      "CMake version: version 3.25.1\n",
      "Libc version: glibc-2.36\n",
      "\n",
      "Python version: 3.11.2 (main, Mar  2 2024, 20:28:50) [GCC 12.2.0] (64-bit runtime)\n",
      "Python platform: Linux-6.1.0-18-amd64-x86_64-with-glibc2.36\n",
      "Is CUDA available: False\n",
      "CUDA runtime version: Could not collect\n",
      "CUDA_MODULE_LOADING set to: N/A\n",
      "GPU models and configuration: GPU 0: NVIDIA GeForce GTX 1650\n",
      "Nvidia driver version: 525.147.05\n",
      "cuDNN version: Could not collect\n",
      "HIP runtime version: N/A\n",
      "MIOpen runtime version: N/A\n",
      "Is XNNPACK available: True\n",
      "\n",
      "CPU:\n",
      "Architecture:                       x86_64\n",
      "CPU op-mode(s):                     32-bit, 64-bit\n",
      "Address sizes:                      48 bits physical, 48 bits virtual\n",
      "Byte Order:                         Little Endian\n",
      "CPU(s):                             6\n",
      "On-line CPU(s) list:                0-5\n",
      "Vendor ID:                          AuthenticAMD\n",
      "Model name:                         AMD FX(tm)-6300 Six-Core Processor\n",
      "CPU family:                         21\n",
      "Model:                              2\n",
      "Thread(s) per core:                 2\n",
      "Core(s) per socket:                 3\n",
      "Socket(s):                          1\n",
      "Stepping:                           0\n",
      "Frequency boost:                    enabled\n",
      "CPU(s) scaling MHz:                 51%\n",
      "CPU max MHz:                        3500,0000\n",
      "CPU min MHz:                        1400,0000\n",
      "BogoMIPS:                           7031,21\n",
      "Flags:                              fpu vme de pse tsc msr pae mce cx8 apic sep mtrr pge mca cmov pat pse36 clflush mmx fxsr sse sse2 ht syscall nx mmxext fxsr_opt pdpe1gb rdtscp lm constant_tsc rep_good nopl nonstop_tsc cpuid extd_apicid aperfmperf pni pclmulqdq monitor ssse3 fma cx16 sse4_1 sse4_2 popcnt aes xsave avx f16c lahf_lm cmp_legacy svm extapic cr8_legacy abm sse4a misalignsse 3dnowprefetch osvw ibs xop skinit wdt fma4 tce nodeid_msr tbm topoext perfctr_core perfctr_nb cpb hw_pstate ssbd ibpb vmmcall bmi1 arat npt lbrv svm_lock nrip_save tsc_scale vmcb_clean flushbyasid decodeassists pausefilter pfthreshold\n",
      "Virtualization:                     AMD-V\n",
      "L1d cache:                          96 KiB (6 instances)\n",
      "L1i cache:                          192 KiB (3 instances)\n",
      "L2 cache:                           6 MiB (3 instances)\n",
      "L3 cache:                           8 MiB (1 instance)\n",
      "NUMA node(s):                       1\n",
      "NUMA node0 CPU(s):                  0-5\n",
      "Vulnerability Gather data sampling: Not affected\n",
      "Vulnerability Itlb multihit:        Not affected\n",
      "Vulnerability L1tf:                 Not affected\n",
      "Vulnerability Mds:                  Not affected\n",
      "Vulnerability Meltdown:             Not affected\n",
      "Vulnerability Mmio stale data:      Not affected\n",
      "Vulnerability Retbleed:             Mitigation; untrained return thunk; SMT vulnerable\n",
      "Vulnerability Spec rstack overflow: Not affected\n",
      "Vulnerability Spec store bypass:    Mitigation; Speculative Store Bypass disabled via prctl\n",
      "Vulnerability Spectre v1:           Mitigation; usercopy/swapgs barriers and __user pointer sanitization\n",
      "Vulnerability Spectre v2:           Mitigation; Retpolines, IBPB conditional, STIBP disabled, RSB filling, PBRSB-eIBRS Not affected\n",
      "Vulnerability Srbds:                Not affected\n",
      "Vulnerability Tsx async abort:      Not affected\n",
      "\n",
      "Versions of relevant libraries:\n",
      "[pip3] numpy==1.26.3\n",
      "[pip3] torch==2.3.0+cu118\n",
      "[pip3] torchaudio==2.3.0+cu118\n",
      "[pip3] torchvision==0.18.0+cu118\n",
      "[pip3] triton==2.3.0\n",
      "[conda] Could not collect\n"
     ]
    }
   ],
   "source": [
    "print(torch.backends.cudnn.enabled)\n",
    "!python -m torch.utils.collect_env"
   ]
  },
  {
   "cell_type": "markdown",
   "metadata": {},
   "source": [
    "## Загрузка и анализ данных"
   ]
  },
  {
   "cell_type": "code",
   "execution_count": 5,
   "metadata": {},
   "outputs": [],
   "source": [
    "train_orig = pd.read_csv('data/QuADS/QuADS - Train.csv')\n",
    "validate_orig = pd.read_csv('data/QuADS/QuADS - Validate.csv')\n",
    "test_orig = pd.read_csv('data/QuADS/QuADS - Test.csv')"
   ]
  },
  {
   "cell_type": "code",
   "execution_count": 6,
   "metadata": {},
   "outputs": [
    {
     "data": {
      "text/html": [
       "<div>\n",
       "<style scoped>\n",
       "    .dataframe tbody tr th:only-of-type {\n",
       "        vertical-align: middle;\n",
       "    }\n",
       "\n",
       "    .dataframe tbody tr th {\n",
       "        vertical-align: top;\n",
       "    }\n",
       "\n",
       "    .dataframe thead th {\n",
       "        text-align: right;\n",
       "    }\n",
       "</style>\n",
       "<table border=\"1\" class=\"dataframe\">\n",
       "  <thead>\n",
       "    <tr style=\"text-align: right;\">\n",
       "      <th></th>\n",
       "      <th>intent</th>\n",
       "      <th>sub intent</th>\n",
       "      <th>data</th>\n",
       "      <th>slots</th>\n",
       "    </tr>\n",
       "  </thead>\n",
       "  <tbody>\n",
       "    <tr>\n",
       "      <th>0</th>\n",
       "      <td>agricultural_machinery</td>\n",
       "      <td>planters</td>\n",
       "      <td>what is planter used for</td>\n",
       "      <td>O O B-machinery_type B-machinery_agricultural_...</td>\n",
       "    </tr>\n",
       "    <tr>\n",
       "      <th>1</th>\n",
       "      <td>agricultural_machinery</td>\n",
       "      <td>rotator</td>\n",
       "      <td>what is the cost of a rotator</td>\n",
       "      <td>O O O B-machinery_price O O B-machinery_type</td>\n",
       "    </tr>\n",
       "    <tr>\n",
       "      <th>2</th>\n",
       "      <td>agricultural_machinery</td>\n",
       "      <td>tractors</td>\n",
       "      <td>how is a tractor used</td>\n",
       "      <td>O O O B-machinery_type B-machinery_agricultura...</td>\n",
       "    </tr>\n",
       "    <tr>\n",
       "      <th>3</th>\n",
       "      <td>agricultural_machinery</td>\n",
       "      <td>chisel_plow</td>\n",
       "      <td>what is the cost of chisel plow</td>\n",
       "      <td>O O O B-machinery_price O O O</td>\n",
       "    </tr>\n",
       "    <tr>\n",
       "      <th>4</th>\n",
       "      <td>agricultural_machinery</td>\n",
       "      <td>liquid_manure</td>\n",
       "      <td>how much does liquid manure cost</td>\n",
       "      <td>O O O O O B-machinery_price</td>\n",
       "    </tr>\n",
       "  </tbody>\n",
       "</table>\n",
       "</div>"
      ],
      "text/plain": [
       "                   intent     sub intent                              data  \\\n",
       "0  agricultural_machinery       planters          what is planter used for   \n",
       "1  agricultural_machinery        rotator     what is the cost of a rotator   \n",
       "2  agricultural_machinery       tractors             how is a tractor used   \n",
       "3  agricultural_machinery    chisel_plow   what is the cost of chisel plow   \n",
       "4  agricultural_machinery  liquid_manure  how much does liquid manure cost   \n",
       "\n",
       "                                               slots  \n",
       "0  O O B-machinery_type B-machinery_agricultural_...  \n",
       "1       O O O B-machinery_price O O B-machinery_type  \n",
       "2  O O O B-machinery_type B-machinery_agricultura...  \n",
       "3                      O O O B-machinery_price O O O  \n",
       "4                        O O O O O B-machinery_price  "
      ]
     },
     "execution_count": 6,
     "metadata": {},
     "output_type": "execute_result"
    }
   ],
   "source": [
    "train_orig.head()"
   ]
  },
  {
   "cell_type": "code",
   "execution_count": 7,
   "metadata": {},
   "outputs": [
    {
     "data": {
      "text/html": [
       "<div>\n",
       "<style scoped>\n",
       "    .dataframe tbody tr th:only-of-type {\n",
       "        vertical-align: middle;\n",
       "    }\n",
       "\n",
       "    .dataframe tbody tr th {\n",
       "        vertical-align: top;\n",
       "    }\n",
       "\n",
       "    .dataframe thead th {\n",
       "        text-align: right;\n",
       "    }\n",
       "</style>\n",
       "<table border=\"1\" class=\"dataframe\">\n",
       "  <thead>\n",
       "    <tr style=\"text-align: right;\">\n",
       "      <th></th>\n",
       "      <th>intent</th>\n",
       "      <th>sub intent</th>\n",
       "      <th>data</th>\n",
       "      <th>slots</th>\n",
       "    </tr>\n",
       "  </thead>\n",
       "  <tbody>\n",
       "    <tr>\n",
       "      <th>0</th>\n",
       "      <td>agricultural_machinery</td>\n",
       "      <td>rotator</td>\n",
       "      <td>which brand is the best for rotator</td>\n",
       "      <td>O B-machinery_general_info O O B-machinery_gen...</td>\n",
       "    </tr>\n",
       "    <tr>\n",
       "      <th>1</th>\n",
       "      <td>agricultural_machinery</td>\n",
       "      <td>rotator</td>\n",
       "      <td>what are the features of rotator</td>\n",
       "      <td>O O O B-machinery_general_info O B-machinery_type</td>\n",
       "    </tr>\n",
       "    <tr>\n",
       "      <th>2</th>\n",
       "      <td>agricultural_machinery</td>\n",
       "      <td>combine</td>\n",
       "      <td>what is a combine</td>\n",
       "      <td>O O O O</td>\n",
       "    </tr>\n",
       "    <tr>\n",
       "      <th>3</th>\n",
       "      <td>agricultural_machinery</td>\n",
       "      <td>produce_sorter</td>\n",
       "      <td>how much does a produce sorter cost</td>\n",
       "      <td>O O O O O O B-machinery_price</td>\n",
       "    </tr>\n",
       "    <tr>\n",
       "      <th>4</th>\n",
       "      <td>agricultural_machinery</td>\n",
       "      <td>subsoiler</td>\n",
       "      <td>is subsoiler very expensive</td>\n",
       "      <td>O B-machinery_type O B-machinery_price</td>\n",
       "    </tr>\n",
       "  </tbody>\n",
       "</table>\n",
       "</div>"
      ],
      "text/plain": [
       "                   intent      sub intent  \\\n",
       "0  agricultural_machinery         rotator   \n",
       "1  agricultural_machinery         rotator   \n",
       "2  agricultural_machinery         combine   \n",
       "3  agricultural_machinery  produce_sorter   \n",
       "4  agricultural_machinery       subsoiler   \n",
       "\n",
       "                                  data  \\\n",
       "0  which brand is the best for rotator   \n",
       "1     what are the features of rotator   \n",
       "2                    what is a combine   \n",
       "3  how much does a produce sorter cost   \n",
       "4          is subsoiler very expensive   \n",
       "\n",
       "                                               slots  \n",
       "0  O B-machinery_general_info O O B-machinery_gen...  \n",
       "1  O O O B-machinery_general_info O B-machinery_type  \n",
       "2                                            O O O O  \n",
       "3                      O O O O O O B-machinery_price  \n",
       "4             O B-machinery_type O B-machinery_price  "
      ]
     },
     "execution_count": 7,
     "metadata": {},
     "output_type": "execute_result"
    }
   ],
   "source": [
    "validate_orig.head()"
   ]
  },
  {
   "cell_type": "code",
   "execution_count": 8,
   "metadata": {},
   "outputs": [
    {
     "data": {
      "text/html": [
       "<div>\n",
       "<style scoped>\n",
       "    .dataframe tbody tr th:only-of-type {\n",
       "        vertical-align: middle;\n",
       "    }\n",
       "\n",
       "    .dataframe tbody tr th {\n",
       "        vertical-align: top;\n",
       "    }\n",
       "\n",
       "    .dataframe thead th {\n",
       "        text-align: right;\n",
       "    }\n",
       "</style>\n",
       "<table border=\"1\" class=\"dataframe\">\n",
       "  <thead>\n",
       "    <tr style=\"text-align: right;\">\n",
       "      <th></th>\n",
       "      <th>intent</th>\n",
       "      <th>sub intent</th>\n",
       "      <th>data</th>\n",
       "      <th>slots</th>\n",
       "    </tr>\n",
       "  </thead>\n",
       "  <tbody>\n",
       "    <tr>\n",
       "      <th>0</th>\n",
       "      <td>agricultural_machinery</td>\n",
       "      <td>cultivator</td>\n",
       "      <td>is cultivator used for harvesting crops</td>\n",
       "      <td>O B-machinery_type B-machinery_agricultural_pr...</td>\n",
       "    </tr>\n",
       "    <tr>\n",
       "      <th>1</th>\n",
       "      <td>agricultural_machinery</td>\n",
       "      <td>plough</td>\n",
       "      <td>is plough used during harvesting or seeding</td>\n",
       "      <td>O B-machinery_type B-machinery_agricultural_pr...</td>\n",
       "    </tr>\n",
       "    <tr>\n",
       "      <th>2</th>\n",
       "      <td>agricultural_machinery</td>\n",
       "      <td>harrow</td>\n",
       "      <td>for how many years is harrow usable</td>\n",
       "      <td>O O O B-machinery_shelf_life O B-machinery_type O</td>\n",
       "    </tr>\n",
       "    <tr>\n",
       "      <th>3</th>\n",
       "      <td>agricultural_machinery</td>\n",
       "      <td>tractors</td>\n",
       "      <td>how is it known that a tractor is in good cond...</td>\n",
       "      <td>O O O O O O B-machinery_type O O B-machinery_g...</td>\n",
       "    </tr>\n",
       "    <tr>\n",
       "      <th>4</th>\n",
       "      <td>agricultural_machinery</td>\n",
       "      <td>seed_drill</td>\n",
       "      <td>how does seed drill work</td>\n",
       "      <td>O O B-machinery_agricultural_process O B-machi...</td>\n",
       "    </tr>\n",
       "  </tbody>\n",
       "</table>\n",
       "</div>"
      ],
      "text/plain": [
       "                   intent  sub intent  \\\n",
       "0  agricultural_machinery  cultivator   \n",
       "1  agricultural_machinery      plough   \n",
       "2  agricultural_machinery      harrow   \n",
       "3  agricultural_machinery    tractors   \n",
       "4  agricultural_machinery  seed_drill   \n",
       "\n",
       "                                                data  \\\n",
       "0            is cultivator used for harvesting crops   \n",
       "1        is plough used during harvesting or seeding   \n",
       "2                for how many years is harrow usable   \n",
       "3  how is it known that a tractor is in good cond...   \n",
       "4                           how does seed drill work   \n",
       "\n",
       "                                               slots  \n",
       "0  O B-machinery_type B-machinery_agricultural_pr...  \n",
       "1  O B-machinery_type B-machinery_agricultural_pr...  \n",
       "2  O O O B-machinery_shelf_life O B-machinery_type O  \n",
       "3  O O O O O O B-machinery_type O O B-machinery_g...  \n",
       "4  O O B-machinery_agricultural_process O B-machi...  "
      ]
     },
     "execution_count": 8,
     "metadata": {},
     "output_type": "execute_result"
    }
   ],
   "source": [
    "test_orig.head()"
   ]
  },
  {
   "cell_type": "code",
   "execution_count": 9,
   "metadata": {},
   "outputs": [
    {
     "name": "stdout",
     "output_type": "stream",
     "text": [
      "1800 360 240\n"
     ]
    }
   ],
   "source": [
    "print(len(train_orig), len(test_orig), len(validate_orig))"
   ]
  },
  {
   "cell_type": "code",
   "execution_count": 10,
   "metadata": {},
   "outputs": [
    {
     "name": "stdout",
     "output_type": "stream",
     "text": [
      "['agricultural_machinery' 'agricultural_processes' 'agrochemicals'\n",
      " 'alternative_farming_methods' 'animal_husbandry' 'crop_information']\n",
      "['agricultural_machinery' 'agricultural_processes' 'agrochemicals'\n",
      " 'alternative_farming_methods' 'animal_husbandry' 'crop_information']\n",
      "\n",
      "['planters' 'rotator' 'tractors' 'chisel_plow' 'liquid_manure' 'harrow'\n",
      " 'roller' 'subsoiler' 'seed_drill' 'produce_sorter' 'general' 'cultivator'\n",
      " 'manure_spreader' 'plough' 'sprayers' 'combine' 'irrigation' 'storage'\n",
      " 'soil_preparation' 'sowing' 'harvest' 'manure' 'pesticides' 'herbicides'\n",
      " 'fertilizers' 'insecticides' 'fungicides' 'horticulture'\n",
      " 'organic farming' 'viticulture' 'floriculture' 'fish_farming'\n",
      " 'dairy_farming' 'bee_keeping' 'sheep_farming' 'alligator_farming'\n",
      " 'poultry_farming' 'pig_farming' 'sericulture' 'vegetables' 'oil_seeds'\n",
      " 'fruits' 'pulses' 'dry_fruits' 'grains' 'spices']\n",
      "['cultivator' 'plough' 'harrow' 'tractors' 'seed_drill' 'general'\n",
      " 'produce_sorter' 'sprayers' 'manure_spreader' 'roller' 'planters'\n",
      " 'chisel_plow' 'rotator' 'subsoiler' 'combine' 'liquid_manure'\n",
      " 'soil_preparation' 'storage' 'manure' 'irrigation' 'harvest' 'sowing'\n",
      " 'fungicides' 'pesticides' 'fertilizers' 'herbicides' 'insecticides'\n",
      " 'horticulture' 'organic farming' 'viticulture' 'floriculture'\n",
      " 'sericulture' 'alligator_farming' 'poultry_farming' 'pig_farming'\n",
      " 'dairy_farming' 'fish_farming' 'bee_keeping' 'sheep_farming' 'dry_fruits'\n",
      " 'vegetables' 'spices' 'pulses' 'fruits' 'grains' 'oil_seeds']\n",
      "\n",
      " True\n",
      "\n",
      "True\n",
      "55\n"
     ]
    }
   ],
   "source": [
    "print(train_orig['intent'].unique())\n",
    "print(test_orig['intent'].unique())\n",
    "print()\n",
    "print(train_orig['sub intent'].unique())\n",
    "print(test_orig['sub intent'].unique())\n",
    "print(\"\\n\", \n",
    "      all([i in set(test_orig['sub intent']) for i in set(train_orig['sub intent'])]))\n",
    "print()\n",
    "train_slots = set(' '.join(train_orig['slots']).split())\n",
    "test_slots = set(' '.join(test_orig['slots']).split())\n",
    "print(all([i in test_slots for i in train_slots]))\n",
    "print(len(train_slots))"
   ]
  },
  {
   "cell_type": "code",
   "execution_count": 11,
   "metadata": {},
   "outputs": [
    {
     "name": "stdout",
     "output_type": "stream",
     "text": [
      "1800 240 360\n"
     ]
    }
   ],
   "source": [
    "print(len(train_orig), len(validate_orig), len(test_orig))"
   ]
  },
  {
   "cell_type": "code",
   "execution_count": 59,
   "metadata": {},
   "outputs": [],
   "source": [
    "slots_ids = {i : j for i, j in enumerate(train_slots)}\n",
    "intent_ids = {i : j for i, j in enumerate(train_orig['intent'].unique())}\n",
    "subintent_ids = {i : j for i, j in enumerate(train_orig['sub intent'].unique())}"
   ]
  },
  {
   "cell_type": "code",
   "execution_count": 60,
   "metadata": {},
   "outputs": [],
   "source": [
    "slots_vocab = {j : i for i, j in slots_ids.items()}\n",
    "intent_vocab = {j : i for i, j in intent_ids.items()}\n",
    "subintent_vocab = {j : i for i, j in subintent_ids.items()}"
   ]
  },
  {
   "cell_type": "code",
   "execution_count": 61,
   "metadata": {},
   "outputs": [],
   "source": [
    "df = pd.concat([train_orig, test_orig, validate_orig])\n",
    "df.rename(columns={'slots' : 'slot_label', 'sub intent' : 'sub_intent'}, inplace=True)\n",
    "df['slot_id'] = [[slots_vocab[w] for w in x.split()] for x in df['slot_label']]\n",
    "df['intent_id'] = [intent_vocab[x] for x in df['intent']]\n",
    "df['subintent_id'] = [subintent_vocab[x]  for x in df['sub_intent']]"
   ]
  },
  {
   "cell_type": "code",
   "execution_count": 62,
   "metadata": {},
   "outputs": [
    {
     "data": {
      "text/html": [
       "<div>\n",
       "<style scoped>\n",
       "    .dataframe tbody tr th:only-of-type {\n",
       "        vertical-align: middle;\n",
       "    }\n",
       "\n",
       "    .dataframe tbody tr th {\n",
       "        vertical-align: top;\n",
       "    }\n",
       "\n",
       "    .dataframe thead th {\n",
       "        text-align: right;\n",
       "    }\n",
       "</style>\n",
       "<table border=\"1\" class=\"dataframe\">\n",
       "  <thead>\n",
       "    <tr style=\"text-align: right;\">\n",
       "      <th></th>\n",
       "      <th>intent</th>\n",
       "      <th>sub_intent</th>\n",
       "      <th>data</th>\n",
       "      <th>slot_label</th>\n",
       "      <th>slot_id</th>\n",
       "      <th>intent_id</th>\n",
       "      <th>subintent_id</th>\n",
       "    </tr>\n",
       "  </thead>\n",
       "  <tbody>\n",
       "    <tr>\n",
       "      <th>0</th>\n",
       "      <td>agricultural_machinery</td>\n",
       "      <td>planters</td>\n",
       "      <td>what is planter used for</td>\n",
       "      <td>O O B-machinery_type B-machinery_agricultural_...</td>\n",
       "      <td>[47, 47, 54, 16, 47]</td>\n",
       "      <td>0</td>\n",
       "      <td>0</td>\n",
       "    </tr>\n",
       "    <tr>\n",
       "      <th>1</th>\n",
       "      <td>agricultural_machinery</td>\n",
       "      <td>rotator</td>\n",
       "      <td>what is the cost of a rotator</td>\n",
       "      <td>O O O B-machinery_price O O B-machinery_type</td>\n",
       "      <td>[47, 47, 47, 12, 47, 47, 54]</td>\n",
       "      <td>0</td>\n",
       "      <td>1</td>\n",
       "    </tr>\n",
       "    <tr>\n",
       "      <th>2</th>\n",
       "      <td>agricultural_machinery</td>\n",
       "      <td>tractors</td>\n",
       "      <td>how is a tractor used</td>\n",
       "      <td>O O O B-machinery_type B-machinery_agricultura...</td>\n",
       "      <td>[47, 47, 47, 54, 16]</td>\n",
       "      <td>0</td>\n",
       "      <td>2</td>\n",
       "    </tr>\n",
       "    <tr>\n",
       "      <th>3</th>\n",
       "      <td>agricultural_machinery</td>\n",
       "      <td>chisel_plow</td>\n",
       "      <td>what is the cost of chisel plow</td>\n",
       "      <td>O O O B-machinery_price O O O</td>\n",
       "      <td>[47, 47, 47, 12, 47, 47, 47]</td>\n",
       "      <td>0</td>\n",
       "      <td>3</td>\n",
       "    </tr>\n",
       "    <tr>\n",
       "      <th>4</th>\n",
       "      <td>agricultural_machinery</td>\n",
       "      <td>liquid_manure</td>\n",
       "      <td>how much does liquid manure cost</td>\n",
       "      <td>O O O O O B-machinery_price</td>\n",
       "      <td>[47, 47, 47, 47, 47, 12]</td>\n",
       "      <td>0</td>\n",
       "      <td>4</td>\n",
       "    </tr>\n",
       "  </tbody>\n",
       "</table>\n",
       "</div>"
      ],
      "text/plain": [
       "                   intent     sub_intent                              data  \\\n",
       "0  agricultural_machinery       planters          what is planter used for   \n",
       "1  agricultural_machinery        rotator     what is the cost of a rotator   \n",
       "2  agricultural_machinery       tractors             how is a tractor used   \n",
       "3  agricultural_machinery    chisel_plow   what is the cost of chisel plow   \n",
       "4  agricultural_machinery  liquid_manure  how much does liquid manure cost   \n",
       "\n",
       "                                          slot_label  \\\n",
       "0  O O B-machinery_type B-machinery_agricultural_...   \n",
       "1       O O O B-machinery_price O O B-machinery_type   \n",
       "2  O O O B-machinery_type B-machinery_agricultura...   \n",
       "3                      O O O B-machinery_price O O O   \n",
       "4                        O O O O O B-machinery_price   \n",
       "\n",
       "                        slot_id  intent_id  subintent_id  \n",
       "0          [47, 47, 54, 16, 47]          0             0  \n",
       "1  [47, 47, 47, 12, 47, 47, 54]          0             1  \n",
       "2          [47, 47, 47, 54, 16]          0             2  \n",
       "3  [47, 47, 47, 12, 47, 47, 47]          0             3  \n",
       "4      [47, 47, 47, 47, 47, 12]          0             4  "
      ]
     },
     "execution_count": 62,
     "metadata": {},
     "output_type": "execute_result"
    }
   ],
   "source": [
    "df.head()"
   ]
  },
  {
   "cell_type": "code",
   "execution_count": 63,
   "metadata": {},
   "outputs": [
    {
     "data": {
      "text/plain": [
       "<Axes: xlabel='slot_id', ylabel='Count'>"
      ]
     },
     "execution_count": 63,
     "metadata": {},
     "output_type": "execute_result"
    },
    {
     "data": {
      "image/png": "[encoded data removed]",
      "text/plain": [
       "<Figure size 640x480 with 1 Axes>"
      ]
     },
     "metadata": {},
     "output_type": "display_data"
    }
   ],
   "source": [
    "sns.histplot(df.explode(['slot_id'])['slot_id'], binwidth=1)"
   ]
  },
  {
   "cell_type": "code",
   "execution_count": 101,
   "metadata": {},
   "outputs": [
    {
     "name": "stdout",
     "output_type": "stream",
     "text": [
      "47\n",
      "10740\n"
     ]
    }
   ],
   "source": [
    "cnt = df.explode(['slot_id'])['slot_id'].value_counts()\n",
    "O_TOKEN = cnt.index[cnt.argmax()]\n",
    "print(O_TOKEN)\n",
    "print(cnt[O_TOKEN])"
   ]
  },
  {
   "cell_type": "code",
   "execution_count": 102,
   "metadata": {},
   "outputs": [
    {
     "data": {
      "text/plain": [
       "<Axes: xlabel='slot_id', ylabel='Count'>"
      ]
     },
     "execution_count": 102,
     "metadata": {},
     "output_type": "execute_result"
    },
    {
     "data": {
      "image/png": "[encoded data removed]",
      "text/plain": [
       "<Figure size 640x480 with 1 Axes>"
      ]
     },
     "metadata": {},
     "output_type": "display_data"
    }
   ],
   "source": [
    "sns.histplot(df.explode(['slot_id']).query('slot_id != ' + str(O_TOKEN))['slot_id'], binwidth=1)"
   ]
  },
  {
   "cell_type": "code",
   "execution_count": 103,
   "metadata": {},
   "outputs": [],
   "source": [
    "group_df = df.explode(['slot_id']).copy()\n",
    "group_df = group_df.astype('object')\n",
    "counts = group_df['slot_id'].value_counts(normalize=True)\n",
    "for i in range(len(slots_ids)):\n",
    "    if counts[i] < 0.01:\n",
    "        group_df.loc[group_df['slot_id']==i, 'slot_id'] = 'Другие'"
   ]
  },
  {
   "cell_type": "code",
   "execution_count": 104,
   "metadata": {},
   "outputs": [
    {
     "data": {
      "text/plain": [
       "<Axes: ylabel='Пропорции'>"
      ]
     },
     "execution_count": 104,
     "metadata": {},
     "output_type": "execute_result"
    },
    {
     "data": {
      "image/png": "[encoded data removed]",
      "text/plain": [
       "<Figure size 640x480 with 1 Axes>"
      ]
     },
     "metadata": {},
     "output_type": "display_data"
    }
   ],
   "source": [
    "group_df['slot_id'].value_counts(normalize=True).plot(kind='pie', \n",
    "                                                       autopct='%1.1f%%', \n",
    "                                                       xlabel='id слота', \n",
    "                                                       ylabel='Пропорции')"
   ]
  },
  {
   "cell_type": "code",
   "execution_count": 105,
   "metadata": {},
   "outputs": [],
   "source": [
    "train_df = train_orig.copy()\n",
    "train_df.rename(columns={'slots' : 'slot_label', 'sub intent' : 'sub_intent'}, \n",
    "                inplace=True)\n",
    "train_df['slot_id'] = [[slots_vocab[w] for w in x.split()] for x in train_df['slot_label']]\n",
    "train_df['intent_id'] = [intent_vocab[x] for x in train_df['intent']]\n",
    "train_df['subintent_id'] = [subintent_vocab[x] for x in train_df['sub_intent']]"
   ]
  },
  {
   "cell_type": "code",
   "execution_count": 106,
   "metadata": {},
   "outputs": [],
   "source": [
    "test_df = test_orig.copy()\n",
    "test_df.rename(columns={'slots' : 'slot_label', 'sub intent' : 'sub_intent'}, \n",
    "               inplace=True)\n",
    "test_df['slot_id'] = [[slots_vocab[w] for w in x.split()] for x in test_df['slot_label']]\n",
    "test_df['intent_id'] = [intent_vocab[x] for x in test_df['intent']]\n",
    "test_df['subintent_id'] = [subintent_vocab[x] for x in test_df['sub_intent']]"
   ]
  },
  {
   "cell_type": "code",
   "execution_count": 107,
   "metadata": {},
   "outputs": [],
   "source": [
    "val_df = validate_orig.copy()\n",
    "val_df.rename(columns={'slots' : 'slot_label', 'sub intent' : 'sub_intent'}, \n",
    "              inplace=True)\n",
    "val_df['slot_id'] = [[slots_vocab[w] for w in x.split()] for x in val_df['slot_label']]\n",
    "val_df['intent_id'] = [intent_vocab[x] for x in val_df['intent']]\n",
    "val_df['subintent_id'] = [subintent_vocab[x] for x in val_df['sub_intent']]"
   ]
  },
  {
   "cell_type": "code",
   "execution_count": 108,
   "metadata": {},
   "outputs": [
    {
     "data": {
      "text/html": [
       "<div>\n",
       "<style scoped>\n",
       "    .dataframe tbody tr th:only-of-type {\n",
       "        vertical-align: middle;\n",
       "    }\n",
       "\n",
       "    .dataframe tbody tr th {\n",
       "        vertical-align: top;\n",
       "    }\n",
       "\n",
       "    .dataframe thead th {\n",
       "        text-align: right;\n",
       "    }\n",
       "</style>\n",
       "<table border=\"1\" class=\"dataframe\">\n",
       "  <thead>\n",
       "    <tr style=\"text-align: right;\">\n",
       "      <th></th>\n",
       "      <th>intent</th>\n",
       "      <th>sub_intent</th>\n",
       "      <th>data</th>\n",
       "      <th>slot_label</th>\n",
       "      <th>slot_id</th>\n",
       "      <th>intent_id</th>\n",
       "      <th>subintent_id</th>\n",
       "    </tr>\n",
       "  </thead>\n",
       "  <tbody>\n",
       "    <tr>\n",
       "      <th>0</th>\n",
       "      <td>agricultural_machinery</td>\n",
       "      <td>rotator</td>\n",
       "      <td>which brand is the best for rotator</td>\n",
       "      <td>O B-machinery_general_info O O B-machinery_gen...</td>\n",
       "      <td>[47, 25, 47, 47, 25, 47, 54]</td>\n",
       "      <td>0</td>\n",
       "      <td>1</td>\n",
       "    </tr>\n",
       "    <tr>\n",
       "      <th>1</th>\n",
       "      <td>agricultural_machinery</td>\n",
       "      <td>rotator</td>\n",
       "      <td>what are the features of rotator</td>\n",
       "      <td>O O O B-machinery_general_info O B-machinery_type</td>\n",
       "      <td>[47, 47, 47, 25, 47, 54]</td>\n",
       "      <td>0</td>\n",
       "      <td>1</td>\n",
       "    </tr>\n",
       "    <tr>\n",
       "      <th>2</th>\n",
       "      <td>agricultural_machinery</td>\n",
       "      <td>combine</td>\n",
       "      <td>what is a combine</td>\n",
       "      <td>O O O O</td>\n",
       "      <td>[47, 47, 47, 47]</td>\n",
       "      <td>0</td>\n",
       "      <td>15</td>\n",
       "    </tr>\n",
       "    <tr>\n",
       "      <th>3</th>\n",
       "      <td>agricultural_machinery</td>\n",
       "      <td>produce_sorter</td>\n",
       "      <td>how much does a produce sorter cost</td>\n",
       "      <td>O O O O O O B-machinery_price</td>\n",
       "      <td>[47, 47, 47, 47, 47, 47, 12]</td>\n",
       "      <td>0</td>\n",
       "      <td>9</td>\n",
       "    </tr>\n",
       "    <tr>\n",
       "      <th>4</th>\n",
       "      <td>agricultural_machinery</td>\n",
       "      <td>subsoiler</td>\n",
       "      <td>is subsoiler very expensive</td>\n",
       "      <td>O B-machinery_type O B-machinery_price</td>\n",
       "      <td>[47, 54, 47, 12]</td>\n",
       "      <td>0</td>\n",
       "      <td>7</td>\n",
       "    </tr>\n",
       "  </tbody>\n",
       "</table>\n",
       "</div>"
      ],
      "text/plain": [
       "                   intent      sub_intent  \\\n",
       "0  agricultural_machinery         rotator   \n",
       "1  agricultural_machinery         rotator   \n",
       "2  agricultural_machinery         combine   \n",
       "3  agricultural_machinery  produce_sorter   \n",
       "4  agricultural_machinery       subsoiler   \n",
       "\n",
       "                                  data  \\\n",
       "0  which brand is the best for rotator   \n",
       "1     what are the features of rotator   \n",
       "2                    what is a combine   \n",
       "3  how much does a produce sorter cost   \n",
       "4          is subsoiler very expensive   \n",
       "\n",
       "                                          slot_label  \\\n",
       "0  O B-machinery_general_info O O B-machinery_gen...   \n",
       "1  O O O B-machinery_general_info O B-machinery_type   \n",
       "2                                            O O O O   \n",
       "3                      O O O O O O B-machinery_price   \n",
       "4             O B-machinery_type O B-machinery_price   \n",
       "\n",
       "                        slot_id  intent_id  subintent_id  \n",
       "0  [47, 25, 47, 47, 25, 47, 54]          0             1  \n",
       "1      [47, 47, 47, 25, 47, 54]          0             1  \n",
       "2              [47, 47, 47, 47]          0            15  \n",
       "3  [47, 47, 47, 47, 47, 47, 12]          0             9  \n",
       "4              [47, 54, 47, 12]          0             7  "
      ]
     },
     "execution_count": 108,
     "metadata": {},
     "output_type": "execute_result"
    }
   ],
   "source": [
    "val_df.head()"
   ]
  },
  {
   "cell_type": "code",
   "execution_count": 109,
   "metadata": {},
   "outputs": [],
   "source": [
    "group_df = train_df.explode(['slot_id']).copy()\n",
    "group_df = group_df.astype('object')\n",
    "counts = group_df['slot_id'].value_counts(normalize=True)\n",
    "for i in range(len(slots_ids)):\n",
    "    if counts[i] < 0.01:\n",
    "        group_df.loc[group_df['slot_id']==i, 'slot_id'] = 'Другие'"
   ]
  },
  {
   "cell_type": "code",
   "execution_count": 110,
   "metadata": {},
   "outputs": [
    {
     "data": {
      "text/plain": [
       "<Axes: ylabel='Пропорции'>"
      ]
     },
     "execution_count": 110,
     "metadata": {},
     "output_type": "execute_result"
    },
    {
     "data": {
      "image/png": "[encoded data removed]",
      "text/plain": [
       "<Figure size 640x480 with 1 Axes>"
      ]
     },
     "metadata": {},
     "output_type": "display_data"
    }
   ],
   "source": [
    "group_df['slot_id'].value_counts(normalize=True).plot(kind='pie', \n",
    "                                                       autopct='%1.1f%%', \n",
    "                                                       xlabel='id слота', \n",
    "                                                       ylabel='Пропорции')"
   ]
  },
  {
   "cell_type": "markdown",
   "metadata": {},
   "source": [
    "## Подготовка данных для обучения модели"
   ]
  },
  {
   "cell_type": "code",
   "execution_count": 111,
   "metadata": {},
   "outputs": [],
   "source": [
    "#BERT tokenizer\n",
    "MODEL_NAME = 'google-bert/bert-base-uncased'\n",
    "tokenizer = BertTokenizer.from_pretrained(MODEL_NAME)"
   ]
  },
  {
   "cell_type": "code",
   "execution_count": 112,
   "metadata": {},
   "outputs": [
    {
     "data": {
      "text/plain": [
       "22"
      ]
     },
     "execution_count": 112,
     "metadata": {},
     "output_type": "execute_result"
    }
   ],
   "source": [
    "token_lens = []\n",
    "\n",
    "for text in df.data:\n",
    "    tokens_encoded = tokenizer.encode(text, truncation=True, max_length=512)\n",
    "    token_lens.append(len(tokens_encoded))\n",
    "\n",
    "max(token_lens)"
   ]
  },
  {
   "cell_type": "code",
   "execution_count": 113,
   "metadata": {},
   "outputs": [
    {
     "data": {
      "text/plain": [
       "<Axes: ylabel='Count'>"
      ]
     },
     "execution_count": 113,
     "metadata": {},
     "output_type": "execute_result"
    },
    {
     "data": {
      "image/png": "[encoded data removed]",
      "text/plain": [
       "<Figure size 640x480 with 1 Axes>"
      ]
     },
     "metadata": {},
     "output_type": "display_data"
    }
   ],
   "source": [
    "sns.histplot(token_lens)"
   ]
  },
  {
   "cell_type": "code",
   "execution_count": 114,
   "metadata": {},
   "outputs": [],
   "source": [
    "MAX_LENGTH = 24"
   ]
  },
  {
   "cell_type": "code",
   "execution_count": 115,
   "metadata": {},
   "outputs": [],
   "source": [
    "def my_tokenizer(txt) :\n",
    "    return tokenizer(txt,\n",
    "            add_special_tokens = True,\n",
    "            max_length = MAX_LENGTH,\n",
    "            return_token_type_ids = False,\n",
    "            pad_to_max_length=True,\n",
    "            return_attention_mask=True,\n",
    "            truncation=True)\n",
    "\n",
    "def pt_tokenizer(txt) :\n",
    "    return tokenizer(txt,\n",
    "            add_special_tokens = True,\n",
    "            max_length = MAX_LENGTH,\n",
    "            return_token_type_ids = False,\n",
    "            pad_to_max_length=True,\n",
    "            return_attention_mask=True,\n",
    "            return_tensors='pt',\n",
    "            truncation=True)\n"
   ]
  },
  {
   "cell_type": "code",
   "execution_count": 116,
   "metadata": {},
   "outputs": [
    {
     "name": "stdout",
     "output_type": "stream",
     "text": [
      "what is the best way to water a vegetable farm and how much water is required by the vegetable crop\n",
      "{'input_ids': [101, 2054, 2003, 1996, 2190, 2126, 2000, 2300, 1037, 15415, 3888, 1998, 2129, 2172, 2300, 2003, 3223, 2011, 1996, 15415, 10416, 102, 0, 0], 'attention_mask': [1, 1, 1, 1, 1, 1, 1, 1, 1, 1, 1, 1, 1, 1, 1, 1, 1, 1, 1, 1, 1, 1, 0, 0]}\n",
      "[101, 2054, 2003, 1996, 2190, 2126, 2000, 2300, 1037, 15415, 3888, 1998, 2129, 2172, 2300, 2003, 3223, 2011, 1996, 15415, 10416, 102, 0, 0]\n",
      "['[ C L S ]', 'w h a t', 'i s', 't h e', 'b e s t', 'w a y', 't o', 'w a t e r', 'a', 'v e g e t a b l e', 'f a r m', 'a n d', 'h o w', 'm u c h', 'w a t e r', 'i s', 'r e q u i r e d', 'b y', 't h e', 'v e g e t a b l e', 'c r o p', '[ S E P ]', '[ P A D ]', '[ P A D ]']\n"
     ]
    }
   ],
   "source": [
    "txt = train_df['data'][np.argmax(train_df.data.apply(lambda x: len(x)))]\n",
    "print(txt)\n",
    "tokens_encoded = my_tokenizer(txt)\n",
    "print(tokens_encoded)\n",
    "print(tokens_encoded['input_ids'])\n",
    "print([tokenizer.decode(i) for i in tokens_encoded['input_ids']])"
   ]
  },
  {
   "cell_type": "code",
   "execution_count": 117,
   "metadata": {},
   "outputs": [
    {
     "name": "stdout",
     "output_type": "stream",
     "text": [
      "['what', 'is', 'the', 'best', 'way', 'to', 'water', 'a', 'vegetable', 'farm', 'and', 'how', 'much', 'water', 'is', 'required', 'by', 'the', 'vegetable', 'crop']\n"
     ]
    }
   ],
   "source": [
    "print(tokenizer.tokenize(txt))"
   ]
  },
  {
   "cell_type": "markdown",
   "metadata": {},
   "source": [
    "### Создаем датасет"
   ]
  },
  {
   "cell_type": "code",
   "execution_count": 118,
   "metadata": {},
   "outputs": [],
   "source": [
    "class ATISDataset(Dataset):\n",
    "    def __init__(self, queries, intent_id, subintent_id, slot_id, tokenizer, \n",
    "            max_len):\n",
    "        self.queries = queries\n",
    "        self.intent_id = intent_id\n",
    "        self.subintent_id = subintent_id\n",
    "        self.slot_id = slot_id\n",
    "        self.tokenizer = tokenizer\n",
    "        self.max_len = max_len\n",
    "    def __len__(self):\n",
    "        return len(self.queries)\n",
    "    def __getitem__(self, item):\n",
    "        query = str(self.queries[item])\n",
    "        intent_id = self.intent_id[item]\n",
    "        subintent_id = self.subintent_id[item]\n",
    "        slot_id = self.slot_id[item]\n",
    "        \n",
    "        # Tokenized and attention mask to be return\n",
    "        token = tokenizer.encode_plus(\n",
    "            query,\n",
    "            add_special_tokens = True,\n",
    "            max_length = self.max_len,\n",
    "            return_token_type_ids = False,\n",
    "            pad_to_max_length=True,\n",
    "            return_attention_mask=True,\n",
    "            return_tensors='pt',\n",
    "            truncation=True\n",
    "        )\n",
    "        \n",
    "        slots = []\n",
    "        count = 0\n",
    "        for i in token['input_ids'].flatten().tolist():\n",
    "            if i in [101, 102, 0] or tokenizer.decode(i)[0] == '#':\n",
    "                slots.append(O_TOKEN)\n",
    "            else:\n",
    "                slots.append(slot_id[count])\n",
    "                if count<len(slot_id)-1:\n",
    "                    count+=1\n",
    "            \n",
    "        return {\n",
    "            'query': query,\n",
    "            'input_ids': token['input_ids'].flatten(),\n",
    "            'attention_mask': token['attention_mask'].flatten(),\n",
    "            'intents': torch.tensor(intent_id, dtype=torch.long),\n",
    "            'subintents' : torch.tensor(subintent_id, dtype=torch.long),\n",
    "            'slots': torch.tensor(slots).flatten()\n",
    "        }\n",
    "        "
   ]
  },
  {
   "cell_type": "code",
   "execution_count": 119,
   "metadata": {},
   "outputs": [],
   "source": [
    "def create_data_loader(df, tokenizer, max_len, batch_size):\n",
    "    ds = ATISDataset(\n",
    "        queries=df['data'].to_numpy(),\n",
    "        intent_id=df['intent_id'].to_numpy(),\n",
    "        subintent_id=df['subintent_id'].to_numpy(),\n",
    "        slot_id=df['slot_id'].to_numpy(),\n",
    "        tokenizer=tokenizer,\n",
    "        max_len=max_len\n",
    "    )\n",
    "    \n",
    "    return DataLoader(\n",
    "        ds,\n",
    "        batch_size=batch_size,\n",
    "        num_workers=2\n",
    "    )"
   ]
  },
  {
   "cell_type": "code",
   "execution_count": 120,
   "metadata": {},
   "outputs": [],
   "source": [
    "BATCH_SIZE = 4\n",
    "train_data_loader = create_data_loader(train_df, tokenizer, MAX_LENGTH, BATCH_SIZE)\n",
    "val_data_loader = create_data_loader(val_df, tokenizer, MAX_LENGTH, BATCH_SIZE)\n",
    "test_data_loader = create_data_loader(test_df, tokenizer, MAX_LENGTH, BATCH_SIZE)"
   ]
  },
  {
   "cell_type": "code",
   "execution_count": 121,
   "metadata": {},
   "outputs": [
    {
     "name": "stdout",
     "output_type": "stream",
     "text": [
      "dict_keys(['query', 'input_ids', 'attention_mask', 'intents', 'subintents', 'slots'])\n",
      "['what is planter used for', 'what is the cost of a rotator', 'how is a tractor used', 'what is the cost of chisel plow']\n",
      "torch.Size([4, 24])\n",
      "torch.Size([4, 24])\n",
      "torch.Size([4])\n",
      "tensor([0, 0, 0, 0])\n",
      "slots:  tensor([[47, 47, 47, 54, 47, 16, 47, 47, 47, 47, 47, 47, 47, 47, 47, 47, 47, 47,\n",
      "         47, 47, 47, 47, 47, 47],\n",
      "        [47, 47, 47, 47, 12, 47, 47, 54, 47, 47, 47, 47, 47, 47, 47, 47, 47, 47,\n",
      "         47, 47, 47, 47, 47, 47],\n",
      "        [47, 47, 47, 47, 54, 16, 47, 47, 47, 47, 47, 47, 47, 47, 47, 47, 47, 47,\n",
      "         47, 47, 47, 47, 47, 47],\n",
      "        [47, 47, 47, 47, 12, 47, 47, 47, 47, 47, 47, 47, 47, 47, 47, 47, 47, 47,\n",
      "         47, 47, 47, 47, 47, 47]])\n",
      "tensor([[  101,  2054,  2003,  3269,  2121,  2109,  2005,   102,     0,     0,\n",
      "             0,     0,     0,     0,     0,     0,     0,     0,     0,     0,\n",
      "             0,     0,     0,     0],\n",
      "        [  101,  2054,  2003,  1996,  3465,  1997,  1037, 18672,  8844,   102,\n",
      "             0,     0,     0,     0,     0,     0,     0,     0,     0,     0,\n",
      "             0,     0,     0,     0],\n",
      "        [  101,  2129,  2003,  1037, 16358,  2109,   102,     0,     0,     0,\n",
      "             0,     0,     0,     0,     0,     0,     0,     0,     0,     0,\n",
      "             0,     0,     0,     0],\n",
      "        [  101,  2054,  2003,  1996,  3465,  1997,  9610, 11246, 20228,  5004,\n",
      "           102,     0,     0,     0,     0,     0,     0,     0,     0,     0,\n",
      "             0,     0,     0,     0]])\n"
     ]
    }
   ],
   "source": [
    "data = next(iter(train_data_loader))\n",
    "print(data.keys())\n",
    "print(data['query'])\n",
    "print(data['input_ids'].shape)\n",
    "print(data['attention_mask'].shape)\n",
    "print(data['intents'].shape)\n",
    "print(data['intents'])\n",
    "print('slots: ', data['slots'])\n",
    "print(data['input_ids'])"
   ]
  },
  {
   "cell_type": "code",
   "execution_count": 122,
   "metadata": {},
   "outputs": [],
   "source": [
    "\n",
    "class Classifier(nn.Module):\n",
    "    def __init__(self, input_dim, num_classes, dropout_rate=0.):\n",
    "        super(Classifier, self).__init__()\n",
    "        self.dropout = nn.Dropout(dropout_rate)\n",
    "        self.linear = nn.Linear(input_dim, num_classes)\n",
    "\n",
    "    def forward(self, x):\n",
    "        x = self.dropout(x)\n",
    "        return self.linear(x)"
   ]
  },
  {
   "cell_type": "code",
   "execution_count": 123,
   "metadata": {},
   "outputs": [],
   "source": [
    "# Joint model\n",
    "class JointBertModel(nn.Module):\n",
    "    def __init__(self, nintents, nsubintents, nslots):\n",
    "        super(JointBertModel, self).__init__()\n",
    "        self.bert = BertModel.from_pretrained(MODEL_NAME)\n",
    "        self.intent_classifier = Classifier(input_dim=self.bert.config.hidden_size, \n",
    "                                                  num_classes=nintents, \n",
    "                                                  dropout_rate=0.05)\n",
    "        self.slot_classifier = Classifier(input_dim=self.bert.config.hidden_size, \n",
    "                                              num_classes=nslots, \n",
    "                                              dropout_rate=0.05)\n",
    "        self.subintent_classifier = Classifier(input_dim=self.bert.config.hidden_size, \n",
    "                                              num_classes=nsubintents, \n",
    "                                              dropout_rate=0.05)\n",
    "    def forward(self, input_ids, attention_mask):\n",
    "        output = self.bert(input_ids=input_ids, attention_mask=attention_mask)\n",
    "        sequence_output = output[0]\n",
    "        pooled_output = output[1]\n",
    "        \n",
    "        intent_logits = self.intent_classifier(pooled_output)\n",
    "        subintent_logits = self.subintent_classifier(pooled_output)\n",
    "        slot_logits = self.slot_classifier(sequence_output)\n",
    "        \n",
    "        return {\n",
    "            'intent': intent_logits,\n",
    "            'subintent' : subintent_logits,\n",
    "            'slot': slot_logits\n",
    "        }\n",
    "        "
   ]
  },
  {
   "cell_type": "code",
   "execution_count": 124,
   "metadata": {},
   "outputs": [],
   "source": [
    "model = JointBertModel(len(intent_ids), len(subintent_ids), len(slots_ids))"
   ]
  },
  {
   "cell_type": "code",
   "execution_count": 125,
   "metadata": {},
   "outputs": [
    {
     "data": {
      "text/plain": [
       "tensor(6.1420, grad_fn=<AddBackward0>)"
      ]
     },
     "execution_count": 125,
     "metadata": {},
     "output_type": "execute_result"
    }
   ],
   "source": [
    "# Testing the model\n",
    "input_ids = data['input_ids']\n",
    "attention_mask = data['attention_mask']\n",
    "intents = data['intents']\n",
    "subintents = data['subintents']\n",
    "slots = data['slots']\n",
    "output = model(input_ids, attention_mask)\n",
    "intent_logits = output['intent']\n",
    "slot_logits = output['slot']\n",
    "subintent_logits = output['subintent']\n",
    "intent_loss_fct = nn.CrossEntropyLoss()\n",
    "slot_loss_fct = nn.CrossEntropyLoss()\n",
    "subintent_loss_fct = nn.CrossEntropyLoss()\n",
    "intent_loss = intent_loss_fct(intent_logits.view(-1, len(intent_ids)), intents.view(-1))\n",
    "subintent_loss = subintent_loss_fct(subintent_logits.view(-1, len(subintent_ids)), subintents)\n",
    "slot_loss = slot_loss_fct(slot_logits.view(-1,len(slots_ids)), slots.view(-1))\n",
    "total_loss = slot_loss+intent_loss\n",
    "total_loss\n",
    "#intent_logits.view(-1, 26), targets.view(-1),intent_loss"
   ]
  },
  {
   "cell_type": "code",
   "execution_count": 126,
   "metadata": {},
   "outputs": [
    {
     "name": "stdout",
     "output_type": "stream",
     "text": [
      "torch.Size([96, 55])\n"
     ]
    },
    {
     "data": {
      "text/plain": [
       "torch.Size([4, 24, 55])"
      ]
     },
     "execution_count": 126,
     "metadata": {},
     "output_type": "execute_result"
    }
   ],
   "source": [
    "print(output['slot'].view(-1, len(slots_ids)).shape)\n",
    "output['slot'].shape"
   ]
  },
  {
   "cell_type": "code",
   "execution_count": 127,
   "metadata": {},
   "outputs": [],
   "source": [
    "# Number of iterations \n",
    "EPOCHS = 12\n",
    "\n",
    "# Optimizer Adam \n",
    "optimizer = AdamW(model.parameters(), lr=1e-5, correct_bias=False)\n",
    "\n",
    "total_steps = len(train_data_loader) * EPOCHS\n",
    "\n",
    "scheduler = get_linear_schedule_with_warmup(\n",
    "    optimizer,\n",
    "    num_warmup_steps=0,\n",
    "    num_training_steps=total_steps\n",
    ")\n",
    "\n",
    "# Set the loss function\n",
    "loss_fn = nn.CrossEntropyLoss().to(device)"
   ]
  },
  {
   "cell_type": "code",
   "execution_count": 128,
   "metadata": {},
   "outputs": [],
   "source": [
    "\n",
    "# Function for a single training iteration\n",
    "model.to(device)\n",
    "def train_epoch(model, data_loader, loss_fn, optimizer, device, scheduler, n_examples):\n",
    "    model = model.train()\n",
    "    losses = []\n",
    "    correct_intent = 0\n",
    "    correct_subintent = 0\n",
    "    correct_slot = 0\n",
    "    \n",
    "    for d in data_loader:\n",
    "        input_ids = d[\"input_ids\"].to(device)\n",
    "        attention_mask = d[\"attention_mask\"].to(device)\n",
    "        intents = d[\"intents\"].to(device)\n",
    "        subintents = d[\"subintents\"].to(device)\n",
    "        slots = d[\"slots\"].to(device)\n",
    "        \n",
    "        output = model(input_ids, attention_mask)\n",
    "        intent_logits = output['intent']\n",
    "        subintent_logits = output['subintent']\n",
    "        slot_logits = output['slot']\n",
    "        \n",
    "        intent_loss = loss_fn(intent_logits.view(-1, len(intent_ids)), intents.view(-1))\n",
    "        subintent_loss = loss_fn(subintent_logits.view(-1, len(subintent_ids)), subintents.view(-1))\n",
    "        slot_loss = loss_fn(slot_logits.view(-1,len(slots_ids)), slots.view(-1))\n",
    "        loss = slot_loss+intent_loss+subintent_loss\n",
    "        \n",
    "        _, intent = torch.max(intent_logits, dim=1)\n",
    "        correct_intent += torch.sum(intent == intents)\n",
    "        _, subintent = torch.max(subintent_logits, dim=1)\n",
    "        correct_subintent += torch.sum(subintent == subintents)\n",
    "        _, slot = torch.max(slot_logits.view(-1, len(slots_ids)), dim=1)\n",
    "        correct_slot += torch.sum(slot == slots.view(-1))\n",
    "        \n",
    "        losses.append(loss.item())\n",
    "        \n",
    "        # Backward prop\n",
    "        loss.backward()\n",
    "        \n",
    "        # Gradient Descent\n",
    "        nn.utils.clip_grad_norm_(model.parameters(), max_norm=1.0)\n",
    "        optimizer.step()\n",
    "        scheduler.step()\n",
    "        optimizer.zero_grad()\n",
    "    \n",
    "    return correct_intent.double()/n_examples, correct_subintent.double()/n_examples, \\\n",
    "        correct_slot.double()/n_examples/MAX_LENGTH, np.mean(losses)"
   ]
  },
  {
   "cell_type": "code",
   "execution_count": 129,
   "metadata": {},
   "outputs": [],
   "source": [
    "\n",
    "def eval_model(model, data_loader, loss_fn, device, n_examples):\n",
    "    model = model.eval()\n",
    "    \n",
    "    losses = []\n",
    "    correct_intent = 0\n",
    "    correct_slot = 0\n",
    "    correct_subintent = 0\n",
    "    \n",
    "    with torch.no_grad():\n",
    "        for d in data_loader:\n",
    "            input_ids = d[\"input_ids\"].to(device)\n",
    "            attention_mask = d[\"attention_mask\"].to(device)\n",
    "            intents = d[\"intents\"].to(device)\n",
    "            subintents = d[\"subintents\"].to(device)\n",
    "            slots = d[\"slots\"].to(device)\n",
    "        \n",
    "            output = model(input_ids, attention_mask)\n",
    "            intent_logits = output['intent']\n",
    "            subintent_logits = output['subintent']\n",
    "            slot_logits = output['slot']\n",
    "        \n",
    "            intent_loss = loss_fn(intent_logits.view(-1, len(intent_ids)), intents.view(-1))\n",
    "            subintent_loss = loss_fn(subintent_logits.view(-1, len(subintent_ids)), subintents.view(-1))\n",
    "            slot_loss = loss_fn(slot_logits.view(-1,len(slots_ids)), slots.view(-1))\n",
    "            loss = slot_loss+intent_loss+subintent_loss\n",
    "        \n",
    "            _, intent = torch.max(intent_logits, dim=1)\n",
    "            correct_intent += torch.sum(intent == intents)\n",
    "            _, subintent = torch.max(subintent_logits, dim=1)\n",
    "            correct_subintent += torch.sum(subintent == subintents)\n",
    "            _, slot = torch.max(slot_logits.view(-1, len(slots_ids)), dim=1)\n",
    "            correct_slot += torch.sum(slot == slots.view(-1))\n",
    "        \n",
    "            losses.append(loss.item())\n",
    "            \n",
    "            \n",
    "    return correct_intent.double()/n_examples, correct_subintent.double()/n_examples, \\\n",
    "          correct_slot.double()/n_examples/MAX_LENGTH, np.mean(losses)"
   ]
  },
  {
   "cell_type": "code",
   "execution_count": 130,
   "metadata": {},
   "outputs": [
    {
     "name": "stdout",
     "output_type": "stream",
     "text": [
      "Epoch 1/12\n",
      "----------\n"
     ]
    },
    {
     "ename": "KeyboardInterrupt",
     "evalue": "",
     "output_type": "error",
     "traceback": [
      "\u001b[0;31m---------------------------------------------------------------------------\u001b[0m",
      "\u001b[0;31mKeyboardInterrupt\u001b[0m                         Traceback (most recent call last)",
      "File \u001b[0;32m<timed exec>:11\u001b[0m\n",
      "Cell \u001b[0;32mIn[128], line 17\u001b[0m, in \u001b[0;36mtrain_epoch\u001b[0;34m(model, data_loader, loss_fn, optimizer, device, scheduler, n_examples)\u001b[0m\n\u001b[1;32m     14\u001b[0m subintents \u001b[38;5;241m=\u001b[39m d[\u001b[38;5;124m\"\u001b[39m\u001b[38;5;124msubintents\u001b[39m\u001b[38;5;124m\"\u001b[39m]\u001b[38;5;241m.\u001b[39mto(device)\n\u001b[1;32m     15\u001b[0m slots \u001b[38;5;241m=\u001b[39m d[\u001b[38;5;124m\"\u001b[39m\u001b[38;5;124mslots\u001b[39m\u001b[38;5;124m\"\u001b[39m]\u001b[38;5;241m.\u001b[39mto(device)\n\u001b[0;32m---> 17\u001b[0m output \u001b[38;5;241m=\u001b[39m \u001b[43mmodel\u001b[49m\u001b[43m(\u001b[49m\u001b[43minput_ids\u001b[49m\u001b[43m,\u001b[49m\u001b[43m \u001b[49m\u001b[43mattention_mask\u001b[49m\u001b[43m)\u001b[49m\n\u001b[1;32m     18\u001b[0m intent_logits \u001b[38;5;241m=\u001b[39m output[\u001b[38;5;124m'\u001b[39m\u001b[38;5;124mintent\u001b[39m\u001b[38;5;124m'\u001b[39m]\n\u001b[1;32m     19\u001b[0m subintent_logits \u001b[38;5;241m=\u001b[39m output[\u001b[38;5;124m'\u001b[39m\u001b[38;5;124msubintent\u001b[39m\u001b[38;5;124m'\u001b[39m]\n",
      "File \u001b[0;32m/media/arizenelm/a72f52e2-dbf5-4f98-aec4-590ed54c7b51/arizenelm.old/IR/venv/lib/python3.11/site-packages/torch/nn/modules/module.py:1532\u001b[0m, in \u001b[0;36mModule._wrapped_call_impl\u001b[0;34m(self, *args, **kwargs)\u001b[0m\n\u001b[1;32m   1530\u001b[0m     \u001b[38;5;28;01mreturn\u001b[39;00m \u001b[38;5;28mself\u001b[39m\u001b[38;5;241m.\u001b[39m_compiled_call_impl(\u001b[38;5;241m*\u001b[39margs, \u001b[38;5;241m*\u001b[39m\u001b[38;5;241m*\u001b[39mkwargs)  \u001b[38;5;66;03m# type: ignore[misc]\u001b[39;00m\n\u001b[1;32m   1531\u001b[0m \u001b[38;5;28;01melse\u001b[39;00m:\n\u001b[0;32m-> 1532\u001b[0m     \u001b[38;5;28;01mreturn\u001b[39;00m \u001b[38;5;28;43mself\u001b[39;49m\u001b[38;5;241;43m.\u001b[39;49m\u001b[43m_call_impl\u001b[49m\u001b[43m(\u001b[49m\u001b[38;5;241;43m*\u001b[39;49m\u001b[43margs\u001b[49m\u001b[43m,\u001b[49m\u001b[43m \u001b[49m\u001b[38;5;241;43m*\u001b[39;49m\u001b[38;5;241;43m*\u001b[39;49m\u001b[43mkwargs\u001b[49m\u001b[43m)\u001b[49m\n",
      "File \u001b[0;32m/media/arizenelm/a72f52e2-dbf5-4f98-aec4-590ed54c7b51/arizenelm.old/IR/venv/lib/python3.11/site-packages/torch/nn/modules/module.py:1541\u001b[0m, in \u001b[0;36mModule._call_impl\u001b[0;34m(self, *args, **kwargs)\u001b[0m\n\u001b[1;32m   1536\u001b[0m \u001b[38;5;66;03m# If we don't have any hooks, we want to skip the rest of the logic in\u001b[39;00m\n\u001b[1;32m   1537\u001b[0m \u001b[38;5;66;03m# this function, and just call forward.\u001b[39;00m\n\u001b[1;32m   1538\u001b[0m \u001b[38;5;28;01mif\u001b[39;00m \u001b[38;5;129;01mnot\u001b[39;00m (\u001b[38;5;28mself\u001b[39m\u001b[38;5;241m.\u001b[39m_backward_hooks \u001b[38;5;129;01mor\u001b[39;00m \u001b[38;5;28mself\u001b[39m\u001b[38;5;241m.\u001b[39m_backward_pre_hooks \u001b[38;5;129;01mor\u001b[39;00m \u001b[38;5;28mself\u001b[39m\u001b[38;5;241m.\u001b[39m_forward_hooks \u001b[38;5;129;01mor\u001b[39;00m \u001b[38;5;28mself\u001b[39m\u001b[38;5;241m.\u001b[39m_forward_pre_hooks\n\u001b[1;32m   1539\u001b[0m         \u001b[38;5;129;01mor\u001b[39;00m _global_backward_pre_hooks \u001b[38;5;129;01mor\u001b[39;00m _global_backward_hooks\n\u001b[1;32m   1540\u001b[0m         \u001b[38;5;129;01mor\u001b[39;00m _global_forward_hooks \u001b[38;5;129;01mor\u001b[39;00m _global_forward_pre_hooks):\n\u001b[0;32m-> 1541\u001b[0m     \u001b[38;5;28;01mreturn\u001b[39;00m \u001b[43mforward_call\u001b[49m\u001b[43m(\u001b[49m\u001b[38;5;241;43m*\u001b[39;49m\u001b[43margs\u001b[49m\u001b[43m,\u001b[49m\u001b[43m \u001b[49m\u001b[38;5;241;43m*\u001b[39;49m\u001b[38;5;241;43m*\u001b[39;49m\u001b[43mkwargs\u001b[49m\u001b[43m)\u001b[49m\n\u001b[1;32m   1543\u001b[0m \u001b[38;5;28;01mtry\u001b[39;00m:\n\u001b[1;32m   1544\u001b[0m     result \u001b[38;5;241m=\u001b[39m \u001b[38;5;28;01mNone\u001b[39;00m\n",
      "Cell \u001b[0;32mIn[123], line 16\u001b[0m, in \u001b[0;36mJointBertModel.forward\u001b[0;34m(self, input_ids, attention_mask)\u001b[0m\n\u001b[1;32m     15\u001b[0m \u001b[38;5;28;01mdef\u001b[39;00m \u001b[38;5;21mforward\u001b[39m(\u001b[38;5;28mself\u001b[39m, input_ids, attention_mask):\n\u001b[0;32m---> 16\u001b[0m     output \u001b[38;5;241m=\u001b[39m \u001b[38;5;28;43mself\u001b[39;49m\u001b[38;5;241;43m.\u001b[39;49m\u001b[43mbert\u001b[49m\u001b[43m(\u001b[49m\u001b[43minput_ids\u001b[49m\u001b[38;5;241;43m=\u001b[39;49m\u001b[43minput_ids\u001b[49m\u001b[43m,\u001b[49m\u001b[43m \u001b[49m\u001b[43mattention_mask\u001b[49m\u001b[38;5;241;43m=\u001b[39;49m\u001b[43mattention_mask\u001b[49m\u001b[43m)\u001b[49m\n\u001b[1;32m     17\u001b[0m     sequence_output \u001b[38;5;241m=\u001b[39m output[\u001b[38;5;241m0\u001b[39m]\n\u001b[1;32m     18\u001b[0m     pooled_output \u001b[38;5;241m=\u001b[39m output[\u001b[38;5;241m1\u001b[39m]\n",
      "File \u001b[0;32m/media/arizenelm/a72f52e2-dbf5-4f98-aec4-590ed54c7b51/arizenelm.old/IR/venv/lib/python3.11/site-packages/torch/nn/modules/module.py:1532\u001b[0m, in \u001b[0;36mModule._wrapped_call_impl\u001b[0;34m(self, *args, **kwargs)\u001b[0m\n\u001b[1;32m   1530\u001b[0m     \u001b[38;5;28;01mreturn\u001b[39;00m \u001b[38;5;28mself\u001b[39m\u001b[38;5;241m.\u001b[39m_compiled_call_impl(\u001b[38;5;241m*\u001b[39margs, \u001b[38;5;241m*\u001b[39m\u001b[38;5;241m*\u001b[39mkwargs)  \u001b[38;5;66;03m# type: ignore[misc]\u001b[39;00m\n\u001b[1;32m   1531\u001b[0m \u001b[38;5;28;01melse\u001b[39;00m:\n\u001b[0;32m-> 1532\u001b[0m     \u001b[38;5;28;01mreturn\u001b[39;00m \u001b[38;5;28;43mself\u001b[39;49m\u001b[38;5;241;43m.\u001b[39;49m\u001b[43m_call_impl\u001b[49m\u001b[43m(\u001b[49m\u001b[38;5;241;43m*\u001b[39;49m\u001b[43margs\u001b[49m\u001b[43m,\u001b[49m\u001b[43m \u001b[49m\u001b[38;5;241;43m*\u001b[39;49m\u001b[38;5;241;43m*\u001b[39;49m\u001b[43mkwargs\u001b[49m\u001b[43m)\u001b[49m\n",
      "File \u001b[0;32m/media/arizenelm/a72f52e2-dbf5-4f98-aec4-590ed54c7b51/arizenelm.old/IR/venv/lib/python3.11/site-packages/torch/nn/modules/module.py:1541\u001b[0m, in \u001b[0;36mModule._call_impl\u001b[0;34m(self, *args, **kwargs)\u001b[0m\n\u001b[1;32m   1536\u001b[0m \u001b[38;5;66;03m# If we don't have any hooks, we want to skip the rest of the logic in\u001b[39;00m\n\u001b[1;32m   1537\u001b[0m \u001b[38;5;66;03m# this function, and just call forward.\u001b[39;00m\n\u001b[1;32m   1538\u001b[0m \u001b[38;5;28;01mif\u001b[39;00m \u001b[38;5;129;01mnot\u001b[39;00m (\u001b[38;5;28mself\u001b[39m\u001b[38;5;241m.\u001b[39m_backward_hooks \u001b[38;5;129;01mor\u001b[39;00m \u001b[38;5;28mself\u001b[39m\u001b[38;5;241m.\u001b[39m_backward_pre_hooks \u001b[38;5;129;01mor\u001b[39;00m \u001b[38;5;28mself\u001b[39m\u001b[38;5;241m.\u001b[39m_forward_hooks \u001b[38;5;129;01mor\u001b[39;00m \u001b[38;5;28mself\u001b[39m\u001b[38;5;241m.\u001b[39m_forward_pre_hooks\n\u001b[1;32m   1539\u001b[0m         \u001b[38;5;129;01mor\u001b[39;00m _global_backward_pre_hooks \u001b[38;5;129;01mor\u001b[39;00m _global_backward_hooks\n\u001b[1;32m   1540\u001b[0m         \u001b[38;5;129;01mor\u001b[39;00m _global_forward_hooks \u001b[38;5;129;01mor\u001b[39;00m _global_forward_pre_hooks):\n\u001b[0;32m-> 1541\u001b[0m     \u001b[38;5;28;01mreturn\u001b[39;00m \u001b[43mforward_call\u001b[49m\u001b[43m(\u001b[49m\u001b[38;5;241;43m*\u001b[39;49m\u001b[43margs\u001b[49m\u001b[43m,\u001b[49m\u001b[43m \u001b[49m\u001b[38;5;241;43m*\u001b[39;49m\u001b[38;5;241;43m*\u001b[39;49m\u001b[43mkwargs\u001b[49m\u001b[43m)\u001b[49m\n\u001b[1;32m   1543\u001b[0m \u001b[38;5;28;01mtry\u001b[39;00m:\n\u001b[1;32m   1544\u001b[0m     result \u001b[38;5;241m=\u001b[39m \u001b[38;5;28;01mNone\u001b[39;00m\n",
      "File \u001b[0;32m/media/arizenelm/a72f52e2-dbf5-4f98-aec4-590ed54c7b51/arizenelm.old/IR/venv/lib/python3.11/site-packages/transformers/models/bert/modeling_bert.py:988\u001b[0m, in \u001b[0;36mBertModel.forward\u001b[0;34m(self, input_ids, attention_mask, token_type_ids, position_ids, head_mask, inputs_embeds, encoder_hidden_states, encoder_attention_mask, past_key_values, use_cache, output_attentions, output_hidden_states, return_dict)\u001b[0m\n\u001b[1;32m    979\u001b[0m head_mask \u001b[38;5;241m=\u001b[39m \u001b[38;5;28mself\u001b[39m\u001b[38;5;241m.\u001b[39mget_head_mask(head_mask, \u001b[38;5;28mself\u001b[39m\u001b[38;5;241m.\u001b[39mconfig\u001b[38;5;241m.\u001b[39mnum_hidden_layers)\n\u001b[1;32m    981\u001b[0m embedding_output \u001b[38;5;241m=\u001b[39m \u001b[38;5;28mself\u001b[39m\u001b[38;5;241m.\u001b[39membeddings(\n\u001b[1;32m    982\u001b[0m     input_ids\u001b[38;5;241m=\u001b[39minput_ids,\n\u001b[1;32m    983\u001b[0m     position_ids\u001b[38;5;241m=\u001b[39mposition_ids,\n\u001b[0;32m   (...)\u001b[0m\n\u001b[1;32m    986\u001b[0m     past_key_values_length\u001b[38;5;241m=\u001b[39mpast_key_values_length,\n\u001b[1;32m    987\u001b[0m )\n\u001b[0;32m--> 988\u001b[0m encoder_outputs \u001b[38;5;241m=\u001b[39m \u001b[38;5;28;43mself\u001b[39;49m\u001b[38;5;241;43m.\u001b[39;49m\u001b[43mencoder\u001b[49m\u001b[43m(\u001b[49m\n\u001b[1;32m    989\u001b[0m \u001b[43m    \u001b[49m\u001b[43membedding_output\u001b[49m\u001b[43m,\u001b[49m\n\u001b[1;32m    990\u001b[0m \u001b[43m    \u001b[49m\u001b[43mattention_mask\u001b[49m\u001b[38;5;241;43m=\u001b[39;49m\u001b[43mextended_attention_mask\u001b[49m\u001b[43m,\u001b[49m\n\u001b[1;32m    991\u001b[0m \u001b[43m    \u001b[49m\u001b[43mhead_mask\u001b[49m\u001b[38;5;241;43m=\u001b[39;49m\u001b[43mhead_mask\u001b[49m\u001b[43m,\u001b[49m\n\u001b[1;32m    992\u001b[0m \u001b[43m    \u001b[49m\u001b[43mencoder_hidden_states\u001b[49m\u001b[38;5;241;43m=\u001b[39;49m\u001b[43mencoder_hidden_states\u001b[49m\u001b[43m,\u001b[49m\n\u001b[1;32m    993\u001b[0m \u001b[43m    \u001b[49m\u001b[43mencoder_attention_mask\u001b[49m\u001b[38;5;241;43m=\u001b[39;49m\u001b[43mencoder_extended_attention_mask\u001b[49m\u001b[43m,\u001b[49m\n\u001b[1;32m    994\u001b[0m \u001b[43m    \u001b[49m\u001b[43mpast_key_values\u001b[49m\u001b[38;5;241;43m=\u001b[39;49m\u001b[43mpast_key_values\u001b[49m\u001b[43m,\u001b[49m\n\u001b[1;32m    995\u001b[0m \u001b[43m    \u001b[49m\u001b[43muse_cache\u001b[49m\u001b[38;5;241;43m=\u001b[39;49m\u001b[43muse_cache\u001b[49m\u001b[43m,\u001b[49m\n\u001b[1;32m    996\u001b[0m \u001b[43m    \u001b[49m\u001b[43moutput_attentions\u001b[49m\u001b[38;5;241;43m=\u001b[39;49m\u001b[43moutput_attentions\u001b[49m\u001b[43m,\u001b[49m\n\u001b[1;32m    997\u001b[0m \u001b[43m    \u001b[49m\u001b[43moutput_hidden_states\u001b[49m\u001b[38;5;241;43m=\u001b[39;49m\u001b[43moutput_hidden_states\u001b[49m\u001b[43m,\u001b[49m\n\u001b[1;32m    998\u001b[0m \u001b[43m    \u001b[49m\u001b[43mreturn_dict\u001b[49m\u001b[38;5;241;43m=\u001b[39;49m\u001b[43mreturn_dict\u001b[49m\u001b[43m,\u001b[49m\n\u001b[1;32m    999\u001b[0m \u001b[43m\u001b[49m\u001b[43m)\u001b[49m\n\u001b[1;32m   1000\u001b[0m sequence_output \u001b[38;5;241m=\u001b[39m encoder_outputs[\u001b[38;5;241m0\u001b[39m]\n\u001b[1;32m   1001\u001b[0m pooled_output \u001b[38;5;241m=\u001b[39m \u001b[38;5;28mself\u001b[39m\u001b[38;5;241m.\u001b[39mpooler(sequence_output) \u001b[38;5;28;01mif\u001b[39;00m \u001b[38;5;28mself\u001b[39m\u001b[38;5;241m.\u001b[39mpooler \u001b[38;5;129;01mis\u001b[39;00m \u001b[38;5;129;01mnot\u001b[39;00m \u001b[38;5;28;01mNone\u001b[39;00m \u001b[38;5;28;01melse\u001b[39;00m \u001b[38;5;28;01mNone\u001b[39;00m\n",
      "File \u001b[0;32m/media/arizenelm/a72f52e2-dbf5-4f98-aec4-590ed54c7b51/arizenelm.old/IR/venv/lib/python3.11/site-packages/torch/nn/modules/module.py:1532\u001b[0m, in \u001b[0;36mModule._wrapped_call_impl\u001b[0;34m(self, *args, **kwargs)\u001b[0m\n\u001b[1;32m   1530\u001b[0m     \u001b[38;5;28;01mreturn\u001b[39;00m \u001b[38;5;28mself\u001b[39m\u001b[38;5;241m.\u001b[39m_compiled_call_impl(\u001b[38;5;241m*\u001b[39margs, \u001b[38;5;241m*\u001b[39m\u001b[38;5;241m*\u001b[39mkwargs)  \u001b[38;5;66;03m# type: ignore[misc]\u001b[39;00m\n\u001b[1;32m   1531\u001b[0m \u001b[38;5;28;01melse\u001b[39;00m:\n\u001b[0;32m-> 1532\u001b[0m     \u001b[38;5;28;01mreturn\u001b[39;00m \u001b[38;5;28;43mself\u001b[39;49m\u001b[38;5;241;43m.\u001b[39;49m\u001b[43m_call_impl\u001b[49m\u001b[43m(\u001b[49m\u001b[38;5;241;43m*\u001b[39;49m\u001b[43margs\u001b[49m\u001b[43m,\u001b[49m\u001b[43m \u001b[49m\u001b[38;5;241;43m*\u001b[39;49m\u001b[38;5;241;43m*\u001b[39;49m\u001b[43mkwargs\u001b[49m\u001b[43m)\u001b[49m\n",
      "File \u001b[0;32m/media/arizenelm/a72f52e2-dbf5-4f98-aec4-590ed54c7b51/arizenelm.old/IR/venv/lib/python3.11/site-packages/torch/nn/modules/module.py:1541\u001b[0m, in \u001b[0;36mModule._call_impl\u001b[0;34m(self, *args, **kwargs)\u001b[0m\n\u001b[1;32m   1536\u001b[0m \u001b[38;5;66;03m# If we don't have any hooks, we want to skip the rest of the logic in\u001b[39;00m\n\u001b[1;32m   1537\u001b[0m \u001b[38;5;66;03m# this function, and just call forward.\u001b[39;00m\n\u001b[1;32m   1538\u001b[0m \u001b[38;5;28;01mif\u001b[39;00m \u001b[38;5;129;01mnot\u001b[39;00m (\u001b[38;5;28mself\u001b[39m\u001b[38;5;241m.\u001b[39m_backward_hooks \u001b[38;5;129;01mor\u001b[39;00m \u001b[38;5;28mself\u001b[39m\u001b[38;5;241m.\u001b[39m_backward_pre_hooks \u001b[38;5;129;01mor\u001b[39;00m \u001b[38;5;28mself\u001b[39m\u001b[38;5;241m.\u001b[39m_forward_hooks \u001b[38;5;129;01mor\u001b[39;00m \u001b[38;5;28mself\u001b[39m\u001b[38;5;241m.\u001b[39m_forward_pre_hooks\n\u001b[1;32m   1539\u001b[0m         \u001b[38;5;129;01mor\u001b[39;00m _global_backward_pre_hooks \u001b[38;5;129;01mor\u001b[39;00m _global_backward_hooks\n\u001b[1;32m   1540\u001b[0m         \u001b[38;5;129;01mor\u001b[39;00m _global_forward_hooks \u001b[38;5;129;01mor\u001b[39;00m _global_forward_pre_hooks):\n\u001b[0;32m-> 1541\u001b[0m     \u001b[38;5;28;01mreturn\u001b[39;00m \u001b[43mforward_call\u001b[49m\u001b[43m(\u001b[49m\u001b[38;5;241;43m*\u001b[39;49m\u001b[43margs\u001b[49m\u001b[43m,\u001b[49m\u001b[43m \u001b[49m\u001b[38;5;241;43m*\u001b[39;49m\u001b[38;5;241;43m*\u001b[39;49m\u001b[43mkwargs\u001b[49m\u001b[43m)\u001b[49m\n\u001b[1;32m   1543\u001b[0m \u001b[38;5;28;01mtry\u001b[39;00m:\n\u001b[1;32m   1544\u001b[0m     result \u001b[38;5;241m=\u001b[39m \u001b[38;5;28;01mNone\u001b[39;00m\n",
      "File \u001b[0;32m/media/arizenelm/a72f52e2-dbf5-4f98-aec4-590ed54c7b51/arizenelm.old/IR/venv/lib/python3.11/site-packages/transformers/models/bert/modeling_bert.py:582\u001b[0m, in \u001b[0;36mBertEncoder.forward\u001b[0;34m(self, hidden_states, attention_mask, head_mask, encoder_hidden_states, encoder_attention_mask, past_key_values, use_cache, output_attentions, output_hidden_states, return_dict)\u001b[0m\n\u001b[1;32m    571\u001b[0m     layer_outputs \u001b[38;5;241m=\u001b[39m \u001b[38;5;28mself\u001b[39m\u001b[38;5;241m.\u001b[39m_gradient_checkpointing_func(\n\u001b[1;32m    572\u001b[0m         layer_module\u001b[38;5;241m.\u001b[39m\u001b[38;5;21m__call__\u001b[39m,\n\u001b[1;32m    573\u001b[0m         hidden_states,\n\u001b[0;32m   (...)\u001b[0m\n\u001b[1;32m    579\u001b[0m         output_attentions,\n\u001b[1;32m    580\u001b[0m     )\n\u001b[1;32m    581\u001b[0m \u001b[38;5;28;01melse\u001b[39;00m:\n\u001b[0;32m--> 582\u001b[0m     layer_outputs \u001b[38;5;241m=\u001b[39m \u001b[43mlayer_module\u001b[49m\u001b[43m(\u001b[49m\n\u001b[1;32m    583\u001b[0m \u001b[43m        \u001b[49m\u001b[43mhidden_states\u001b[49m\u001b[43m,\u001b[49m\n\u001b[1;32m    584\u001b[0m \u001b[43m        \u001b[49m\u001b[43mattention_mask\u001b[49m\u001b[43m,\u001b[49m\n\u001b[1;32m    585\u001b[0m \u001b[43m        \u001b[49m\u001b[43mlayer_head_mask\u001b[49m\u001b[43m,\u001b[49m\n\u001b[1;32m    586\u001b[0m \u001b[43m        \u001b[49m\u001b[43mencoder_hidden_states\u001b[49m\u001b[43m,\u001b[49m\n\u001b[1;32m    587\u001b[0m \u001b[43m        \u001b[49m\u001b[43mencoder_attention_mask\u001b[49m\u001b[43m,\u001b[49m\n\u001b[1;32m    588\u001b[0m \u001b[43m        \u001b[49m\u001b[43mpast_key_value\u001b[49m\u001b[43m,\u001b[49m\n\u001b[1;32m    589\u001b[0m \u001b[43m        \u001b[49m\u001b[43moutput_attentions\u001b[49m\u001b[43m,\u001b[49m\n\u001b[1;32m    590\u001b[0m \u001b[43m    \u001b[49m\u001b[43m)\u001b[49m\n\u001b[1;32m    592\u001b[0m hidden_states \u001b[38;5;241m=\u001b[39m layer_outputs[\u001b[38;5;241m0\u001b[39m]\n\u001b[1;32m    593\u001b[0m \u001b[38;5;28;01mif\u001b[39;00m use_cache:\n",
      "File \u001b[0;32m/media/arizenelm/a72f52e2-dbf5-4f98-aec4-590ed54c7b51/arizenelm.old/IR/venv/lib/python3.11/site-packages/torch/nn/modules/module.py:1532\u001b[0m, in \u001b[0;36mModule._wrapped_call_impl\u001b[0;34m(self, *args, **kwargs)\u001b[0m\n\u001b[1;32m   1530\u001b[0m     \u001b[38;5;28;01mreturn\u001b[39;00m \u001b[38;5;28mself\u001b[39m\u001b[38;5;241m.\u001b[39m_compiled_call_impl(\u001b[38;5;241m*\u001b[39margs, \u001b[38;5;241m*\u001b[39m\u001b[38;5;241m*\u001b[39mkwargs)  \u001b[38;5;66;03m# type: ignore[misc]\u001b[39;00m\n\u001b[1;32m   1531\u001b[0m \u001b[38;5;28;01melse\u001b[39;00m:\n\u001b[0;32m-> 1532\u001b[0m     \u001b[38;5;28;01mreturn\u001b[39;00m \u001b[38;5;28;43mself\u001b[39;49m\u001b[38;5;241;43m.\u001b[39;49m\u001b[43m_call_impl\u001b[49m\u001b[43m(\u001b[49m\u001b[38;5;241;43m*\u001b[39;49m\u001b[43margs\u001b[49m\u001b[43m,\u001b[49m\u001b[43m \u001b[49m\u001b[38;5;241;43m*\u001b[39;49m\u001b[38;5;241;43m*\u001b[39;49m\u001b[43mkwargs\u001b[49m\u001b[43m)\u001b[49m\n",
      "File \u001b[0;32m/media/arizenelm/a72f52e2-dbf5-4f98-aec4-590ed54c7b51/arizenelm.old/IR/venv/lib/python3.11/site-packages/torch/nn/modules/module.py:1541\u001b[0m, in \u001b[0;36mModule._call_impl\u001b[0;34m(self, *args, **kwargs)\u001b[0m\n\u001b[1;32m   1536\u001b[0m \u001b[38;5;66;03m# If we don't have any hooks, we want to skip the rest of the logic in\u001b[39;00m\n\u001b[1;32m   1537\u001b[0m \u001b[38;5;66;03m# this function, and just call forward.\u001b[39;00m\n\u001b[1;32m   1538\u001b[0m \u001b[38;5;28;01mif\u001b[39;00m \u001b[38;5;129;01mnot\u001b[39;00m (\u001b[38;5;28mself\u001b[39m\u001b[38;5;241m.\u001b[39m_backward_hooks \u001b[38;5;129;01mor\u001b[39;00m \u001b[38;5;28mself\u001b[39m\u001b[38;5;241m.\u001b[39m_backward_pre_hooks \u001b[38;5;129;01mor\u001b[39;00m \u001b[38;5;28mself\u001b[39m\u001b[38;5;241m.\u001b[39m_forward_hooks \u001b[38;5;129;01mor\u001b[39;00m \u001b[38;5;28mself\u001b[39m\u001b[38;5;241m.\u001b[39m_forward_pre_hooks\n\u001b[1;32m   1539\u001b[0m         \u001b[38;5;129;01mor\u001b[39;00m _global_backward_pre_hooks \u001b[38;5;129;01mor\u001b[39;00m _global_backward_hooks\n\u001b[1;32m   1540\u001b[0m         \u001b[38;5;129;01mor\u001b[39;00m _global_forward_hooks \u001b[38;5;129;01mor\u001b[39;00m _global_forward_pre_hooks):\n\u001b[0;32m-> 1541\u001b[0m     \u001b[38;5;28;01mreturn\u001b[39;00m \u001b[43mforward_call\u001b[49m\u001b[43m(\u001b[49m\u001b[38;5;241;43m*\u001b[39;49m\u001b[43margs\u001b[49m\u001b[43m,\u001b[49m\u001b[43m \u001b[49m\u001b[38;5;241;43m*\u001b[39;49m\u001b[38;5;241;43m*\u001b[39;49m\u001b[43mkwargs\u001b[49m\u001b[43m)\u001b[49m\n\u001b[1;32m   1543\u001b[0m \u001b[38;5;28;01mtry\u001b[39;00m:\n\u001b[1;32m   1544\u001b[0m     result \u001b[38;5;241m=\u001b[39m \u001b[38;5;28;01mNone\u001b[39;00m\n",
      "File \u001b[0;32m/media/arizenelm/a72f52e2-dbf5-4f98-aec4-590ed54c7b51/arizenelm.old/IR/venv/lib/python3.11/site-packages/transformers/models/bert/modeling_bert.py:514\u001b[0m, in \u001b[0;36mBertLayer.forward\u001b[0;34m(self, hidden_states, attention_mask, head_mask, encoder_hidden_states, encoder_attention_mask, past_key_value, output_attentions)\u001b[0m\n\u001b[1;32m    511\u001b[0m     cross_attn_present_key_value \u001b[38;5;241m=\u001b[39m cross_attention_outputs[\u001b[38;5;241m-\u001b[39m\u001b[38;5;241m1\u001b[39m]\n\u001b[1;32m    512\u001b[0m     present_key_value \u001b[38;5;241m=\u001b[39m present_key_value \u001b[38;5;241m+\u001b[39m cross_attn_present_key_value\n\u001b[0;32m--> 514\u001b[0m layer_output \u001b[38;5;241m=\u001b[39m \u001b[43mapply_chunking_to_forward\u001b[49m\u001b[43m(\u001b[49m\n\u001b[1;32m    515\u001b[0m \u001b[43m    \u001b[49m\u001b[38;5;28;43mself\u001b[39;49m\u001b[38;5;241;43m.\u001b[39;49m\u001b[43mfeed_forward_chunk\u001b[49m\u001b[43m,\u001b[49m\u001b[43m \u001b[49m\u001b[38;5;28;43mself\u001b[39;49m\u001b[38;5;241;43m.\u001b[39;49m\u001b[43mchunk_size_feed_forward\u001b[49m\u001b[43m,\u001b[49m\u001b[43m \u001b[49m\u001b[38;5;28;43mself\u001b[39;49m\u001b[38;5;241;43m.\u001b[39;49m\u001b[43mseq_len_dim\u001b[49m\u001b[43m,\u001b[49m\u001b[43m \u001b[49m\u001b[43mattention_output\u001b[49m\n\u001b[1;32m    516\u001b[0m \u001b[43m\u001b[49m\u001b[43m)\u001b[49m\n\u001b[1;32m    517\u001b[0m outputs \u001b[38;5;241m=\u001b[39m (layer_output,) \u001b[38;5;241m+\u001b[39m outputs\n\u001b[1;32m    519\u001b[0m \u001b[38;5;66;03m# if decoder, return the attn key/values as the last output\u001b[39;00m\n",
      "File \u001b[0;32m/media/arizenelm/a72f52e2-dbf5-4f98-aec4-590ed54c7b51/arizenelm.old/IR/venv/lib/python3.11/site-packages/transformers/pytorch_utils.py:237\u001b[0m, in \u001b[0;36mapply_chunking_to_forward\u001b[0;34m(forward_fn, chunk_size, chunk_dim, *input_tensors)\u001b[0m\n\u001b[1;32m    234\u001b[0m     \u001b[38;5;66;03m# concatenate output at same dimension\u001b[39;00m\n\u001b[1;32m    235\u001b[0m     \u001b[38;5;28;01mreturn\u001b[39;00m torch\u001b[38;5;241m.\u001b[39mcat(output_chunks, dim\u001b[38;5;241m=\u001b[39mchunk_dim)\n\u001b[0;32m--> 237\u001b[0m \u001b[38;5;28;01mreturn\u001b[39;00m \u001b[43mforward_fn\u001b[49m\u001b[43m(\u001b[49m\u001b[38;5;241;43m*\u001b[39;49m\u001b[43minput_tensors\u001b[49m\u001b[43m)\u001b[49m\n",
      "File \u001b[0;32m/media/arizenelm/a72f52e2-dbf5-4f98-aec4-590ed54c7b51/arizenelm.old/IR/venv/lib/python3.11/site-packages/transformers/models/bert/modeling_bert.py:526\u001b[0m, in \u001b[0;36mBertLayer.feed_forward_chunk\u001b[0;34m(self, attention_output)\u001b[0m\n\u001b[1;32m    525\u001b[0m \u001b[38;5;28;01mdef\u001b[39;00m \u001b[38;5;21mfeed_forward_chunk\u001b[39m(\u001b[38;5;28mself\u001b[39m, attention_output):\n\u001b[0;32m--> 526\u001b[0m     intermediate_output \u001b[38;5;241m=\u001b[39m \u001b[38;5;28;43mself\u001b[39;49m\u001b[38;5;241;43m.\u001b[39;49m\u001b[43mintermediate\u001b[49m\u001b[43m(\u001b[49m\u001b[43mattention_output\u001b[49m\u001b[43m)\u001b[49m\n\u001b[1;32m    527\u001b[0m     layer_output \u001b[38;5;241m=\u001b[39m \u001b[38;5;28mself\u001b[39m\u001b[38;5;241m.\u001b[39moutput(intermediate_output, attention_output)\n\u001b[1;32m    528\u001b[0m     \u001b[38;5;28;01mreturn\u001b[39;00m layer_output\n",
      "File \u001b[0;32m/media/arizenelm/a72f52e2-dbf5-4f98-aec4-590ed54c7b51/arizenelm.old/IR/venv/lib/python3.11/site-packages/torch/nn/modules/module.py:1532\u001b[0m, in \u001b[0;36mModule._wrapped_call_impl\u001b[0;34m(self, *args, **kwargs)\u001b[0m\n\u001b[1;32m   1530\u001b[0m     \u001b[38;5;28;01mreturn\u001b[39;00m \u001b[38;5;28mself\u001b[39m\u001b[38;5;241m.\u001b[39m_compiled_call_impl(\u001b[38;5;241m*\u001b[39margs, \u001b[38;5;241m*\u001b[39m\u001b[38;5;241m*\u001b[39mkwargs)  \u001b[38;5;66;03m# type: ignore[misc]\u001b[39;00m\n\u001b[1;32m   1531\u001b[0m \u001b[38;5;28;01melse\u001b[39;00m:\n\u001b[0;32m-> 1532\u001b[0m     \u001b[38;5;28;01mreturn\u001b[39;00m \u001b[38;5;28;43mself\u001b[39;49m\u001b[38;5;241;43m.\u001b[39;49m\u001b[43m_call_impl\u001b[49m\u001b[43m(\u001b[49m\u001b[38;5;241;43m*\u001b[39;49m\u001b[43margs\u001b[49m\u001b[43m,\u001b[49m\u001b[43m \u001b[49m\u001b[38;5;241;43m*\u001b[39;49m\u001b[38;5;241;43m*\u001b[39;49m\u001b[43mkwargs\u001b[49m\u001b[43m)\u001b[49m\n",
      "File \u001b[0;32m/media/arizenelm/a72f52e2-dbf5-4f98-aec4-590ed54c7b51/arizenelm.old/IR/venv/lib/python3.11/site-packages/torch/nn/modules/module.py:1541\u001b[0m, in \u001b[0;36mModule._call_impl\u001b[0;34m(self, *args, **kwargs)\u001b[0m\n\u001b[1;32m   1536\u001b[0m \u001b[38;5;66;03m# If we don't have any hooks, we want to skip the rest of the logic in\u001b[39;00m\n\u001b[1;32m   1537\u001b[0m \u001b[38;5;66;03m# this function, and just call forward.\u001b[39;00m\n\u001b[1;32m   1538\u001b[0m \u001b[38;5;28;01mif\u001b[39;00m \u001b[38;5;129;01mnot\u001b[39;00m (\u001b[38;5;28mself\u001b[39m\u001b[38;5;241m.\u001b[39m_backward_hooks \u001b[38;5;129;01mor\u001b[39;00m \u001b[38;5;28mself\u001b[39m\u001b[38;5;241m.\u001b[39m_backward_pre_hooks \u001b[38;5;129;01mor\u001b[39;00m \u001b[38;5;28mself\u001b[39m\u001b[38;5;241m.\u001b[39m_forward_hooks \u001b[38;5;129;01mor\u001b[39;00m \u001b[38;5;28mself\u001b[39m\u001b[38;5;241m.\u001b[39m_forward_pre_hooks\n\u001b[1;32m   1539\u001b[0m         \u001b[38;5;129;01mor\u001b[39;00m _global_backward_pre_hooks \u001b[38;5;129;01mor\u001b[39;00m _global_backward_hooks\n\u001b[1;32m   1540\u001b[0m         \u001b[38;5;129;01mor\u001b[39;00m _global_forward_hooks \u001b[38;5;129;01mor\u001b[39;00m _global_forward_pre_hooks):\n\u001b[0;32m-> 1541\u001b[0m     \u001b[38;5;28;01mreturn\u001b[39;00m \u001b[43mforward_call\u001b[49m\u001b[43m(\u001b[49m\u001b[38;5;241;43m*\u001b[39;49m\u001b[43margs\u001b[49m\u001b[43m,\u001b[49m\u001b[43m \u001b[49m\u001b[38;5;241;43m*\u001b[39;49m\u001b[38;5;241;43m*\u001b[39;49m\u001b[43mkwargs\u001b[49m\u001b[43m)\u001b[49m\n\u001b[1;32m   1543\u001b[0m \u001b[38;5;28;01mtry\u001b[39;00m:\n\u001b[1;32m   1544\u001b[0m     result \u001b[38;5;241m=\u001b[39m \u001b[38;5;28;01mNone\u001b[39;00m\n",
      "File \u001b[0;32m/media/arizenelm/a72f52e2-dbf5-4f98-aec4-590ed54c7b51/arizenelm.old/IR/venv/lib/python3.11/site-packages/transformers/models/bert/modeling_bert.py:426\u001b[0m, in \u001b[0;36mBertIntermediate.forward\u001b[0;34m(self, hidden_states)\u001b[0m\n\u001b[1;32m    425\u001b[0m \u001b[38;5;28;01mdef\u001b[39;00m \u001b[38;5;21mforward\u001b[39m(\u001b[38;5;28mself\u001b[39m, hidden_states: torch\u001b[38;5;241m.\u001b[39mTensor) \u001b[38;5;241m-\u001b[39m\u001b[38;5;241m>\u001b[39m torch\u001b[38;5;241m.\u001b[39mTensor:\n\u001b[0;32m--> 426\u001b[0m     hidden_states \u001b[38;5;241m=\u001b[39m \u001b[38;5;28;43mself\u001b[39;49m\u001b[38;5;241;43m.\u001b[39;49m\u001b[43mdense\u001b[49m\u001b[43m(\u001b[49m\u001b[43mhidden_states\u001b[49m\u001b[43m)\u001b[49m\n\u001b[1;32m    427\u001b[0m     hidden_states \u001b[38;5;241m=\u001b[39m \u001b[38;5;28mself\u001b[39m\u001b[38;5;241m.\u001b[39mintermediate_act_fn(hidden_states)\n\u001b[1;32m    428\u001b[0m     \u001b[38;5;28;01mreturn\u001b[39;00m hidden_states\n",
      "File \u001b[0;32m/media/arizenelm/a72f52e2-dbf5-4f98-aec4-590ed54c7b51/arizenelm.old/IR/venv/lib/python3.11/site-packages/torch/nn/modules/module.py:1532\u001b[0m, in \u001b[0;36mModule._wrapped_call_impl\u001b[0;34m(self, *args, **kwargs)\u001b[0m\n\u001b[1;32m   1530\u001b[0m     \u001b[38;5;28;01mreturn\u001b[39;00m \u001b[38;5;28mself\u001b[39m\u001b[38;5;241m.\u001b[39m_compiled_call_impl(\u001b[38;5;241m*\u001b[39margs, \u001b[38;5;241m*\u001b[39m\u001b[38;5;241m*\u001b[39mkwargs)  \u001b[38;5;66;03m# type: ignore[misc]\u001b[39;00m\n\u001b[1;32m   1531\u001b[0m \u001b[38;5;28;01melse\u001b[39;00m:\n\u001b[0;32m-> 1532\u001b[0m     \u001b[38;5;28;01mreturn\u001b[39;00m \u001b[38;5;28;43mself\u001b[39;49m\u001b[38;5;241;43m.\u001b[39;49m\u001b[43m_call_impl\u001b[49m\u001b[43m(\u001b[49m\u001b[38;5;241;43m*\u001b[39;49m\u001b[43margs\u001b[49m\u001b[43m,\u001b[49m\u001b[43m \u001b[49m\u001b[38;5;241;43m*\u001b[39;49m\u001b[38;5;241;43m*\u001b[39;49m\u001b[43mkwargs\u001b[49m\u001b[43m)\u001b[49m\n",
      "File \u001b[0;32m/media/arizenelm/a72f52e2-dbf5-4f98-aec4-590ed54c7b51/arizenelm.old/IR/venv/lib/python3.11/site-packages/torch/nn/modules/module.py:1541\u001b[0m, in \u001b[0;36mModule._call_impl\u001b[0;34m(self, *args, **kwargs)\u001b[0m\n\u001b[1;32m   1536\u001b[0m \u001b[38;5;66;03m# If we don't have any hooks, we want to skip the rest of the logic in\u001b[39;00m\n\u001b[1;32m   1537\u001b[0m \u001b[38;5;66;03m# this function, and just call forward.\u001b[39;00m\n\u001b[1;32m   1538\u001b[0m \u001b[38;5;28;01mif\u001b[39;00m \u001b[38;5;129;01mnot\u001b[39;00m (\u001b[38;5;28mself\u001b[39m\u001b[38;5;241m.\u001b[39m_backward_hooks \u001b[38;5;129;01mor\u001b[39;00m \u001b[38;5;28mself\u001b[39m\u001b[38;5;241m.\u001b[39m_backward_pre_hooks \u001b[38;5;129;01mor\u001b[39;00m \u001b[38;5;28mself\u001b[39m\u001b[38;5;241m.\u001b[39m_forward_hooks \u001b[38;5;129;01mor\u001b[39;00m \u001b[38;5;28mself\u001b[39m\u001b[38;5;241m.\u001b[39m_forward_pre_hooks\n\u001b[1;32m   1539\u001b[0m         \u001b[38;5;129;01mor\u001b[39;00m _global_backward_pre_hooks \u001b[38;5;129;01mor\u001b[39;00m _global_backward_hooks\n\u001b[1;32m   1540\u001b[0m         \u001b[38;5;129;01mor\u001b[39;00m _global_forward_hooks \u001b[38;5;129;01mor\u001b[39;00m _global_forward_pre_hooks):\n\u001b[0;32m-> 1541\u001b[0m     \u001b[38;5;28;01mreturn\u001b[39;00m \u001b[43mforward_call\u001b[49m\u001b[43m(\u001b[49m\u001b[38;5;241;43m*\u001b[39;49m\u001b[43margs\u001b[49m\u001b[43m,\u001b[49m\u001b[43m \u001b[49m\u001b[38;5;241;43m*\u001b[39;49m\u001b[38;5;241;43m*\u001b[39;49m\u001b[43mkwargs\u001b[49m\u001b[43m)\u001b[49m\n\u001b[1;32m   1543\u001b[0m \u001b[38;5;28;01mtry\u001b[39;00m:\n\u001b[1;32m   1544\u001b[0m     result \u001b[38;5;241m=\u001b[39m \u001b[38;5;28;01mNone\u001b[39;00m\n",
      "File \u001b[0;32m/media/arizenelm/a72f52e2-dbf5-4f98-aec4-590ed54c7b51/arizenelm.old/IR/venv/lib/python3.11/site-packages/torch/nn/modules/linear.py:116\u001b[0m, in \u001b[0;36mLinear.forward\u001b[0;34m(self, input)\u001b[0m\n\u001b[1;32m    115\u001b[0m \u001b[38;5;28;01mdef\u001b[39;00m \u001b[38;5;21mforward\u001b[39m(\u001b[38;5;28mself\u001b[39m, \u001b[38;5;28minput\u001b[39m: Tensor) \u001b[38;5;241m-\u001b[39m\u001b[38;5;241m>\u001b[39m Tensor:\n\u001b[0;32m--> 116\u001b[0m     \u001b[38;5;28;01mreturn\u001b[39;00m \u001b[43mF\u001b[49m\u001b[38;5;241;43m.\u001b[39;49m\u001b[43mlinear\u001b[49m\u001b[43m(\u001b[49m\u001b[38;5;28;43minput\u001b[39;49m\u001b[43m,\u001b[49m\u001b[43m \u001b[49m\u001b[38;5;28;43mself\u001b[39;49m\u001b[38;5;241;43m.\u001b[39;49m\u001b[43mweight\u001b[49m\u001b[43m,\u001b[49m\u001b[43m \u001b[49m\u001b[38;5;28;43mself\u001b[39;49m\u001b[38;5;241;43m.\u001b[39;49m\u001b[43mbias\u001b[49m\u001b[43m)\u001b[49m\n",
      "\u001b[0;31mKeyboardInterrupt\u001b[0m: "
     ]
    }
   ],
   "source": [
    "%%time\n",
    "\n",
    "history = defaultdict(list)\n",
    "best_accuracy = 0\n",
    "\n",
    "torch.cuda.empty_cache() \n",
    "for epoch in range(EPOCHS):\n",
    "    \n",
    "    # Show details \n",
    "    print(f\"Epoch {epoch + 1}/{EPOCHS}\")\n",
    "    print(\"-\" * 10)\n",
    "    \n",
    "    intent_acc, subintent_acc, slot_acc, train_loss = train_epoch(\n",
    "        model,\n",
    "        train_data_loader,\n",
    "        loss_fn,\n",
    "        optimizer,\n",
    "        device,\n",
    "        scheduler,\n",
    "        len(train_df)\n",
    "    )\n",
    "    \n",
    "    print(f\"Train loss {train_loss}, intent accuracy {intent_acc},\"  + \\\n",
    "     f\"subintent accuracy {subintent_acc}, slot accuracy {slot_acc}\")\n",
    "    \n",
    "    # Get model performance (accuracy and loss)\n",
    "    val_intent_acc, val_subintent_acc, val_slot_acc, val_loss = eval_model(\n",
    "        model,\n",
    "        val_data_loader,\n",
    "        loss_fn,\n",
    "        device,\n",
    "        len(val_df)\n",
    "    )\n",
    "    \n",
    "    print(f\"Val loss {val_loss}, intent accuracy {val_intent_acc},\" + \\\n",
    "        f\"subintent accuracy {val_subintent_acc}, slot accuracy {val_slot_acc}\")\n",
    "    print()\n",
    "    \n",
    "    history['train_acc'].append(intent_acc)\n",
    "    history['train_loss'].append(train_loss)\n",
    "    history['val_acc'].append(val_intent_acc)\n",
    "    history['val_loss'].append(val_loss)\n",
    "    \n",
    "    # If we beat prev performance\n",
    "    if val_intent_acc > best_accuracy:\n",
    "        torch.save(model.state_dict(), 'working/quads/best.pt')\n",
    "        best_accuracy = val_intent_acc\n",
    "        \n",
    "torch.save(model.state_dict(), 'working/quads/last.pt')"
   ]
  },
  {
   "cell_type": "code",
   "execution_count": null,
   "metadata": {},
   "outputs": [],
   "source": [
    "train_acc = [float(i.cpu()) for i in history['train_acc']]\n",
    "val_acc = [float(i.cpu()) for i in history['val_acc']]\n",
    "train_loss = [float(i) for i in history['train_loss']]\n",
    "val_loss = [float(i) for i in history['val_loss']]"
   ]
  },
  {
   "cell_type": "code",
   "execution_count": null,
   "metadata": {},
   "outputs": [
    {
     "data": {
      "image/png": "[encoded data removed]",
      "text/plain": [
       "<Figure size 640x480 with 1 Axes>"
      ]
     },
     "metadata": {},
     "output_type": "display_data"
    }
   ],
   "source": [
    "# Plot training and validation accuracy\n",
    "plt.plot(train_acc, label='train accuracy')\n",
    "plt.plot(val_acc, label='validation accuracy')\n",
    "\n",
    "# Graph chars\n",
    "plt.title('Training history')\n",
    "plt.ylabel('Accuracy')\n",
    "plt.xlabel('Epoch')\n",
    "plt.legend()\n",
    "plt.ylim([0, 1]);"
   ]
  },
  {
   "cell_type": "code",
   "execution_count": null,
   "metadata": {},
   "outputs": [
    {
     "data": {
      "image/png": "[encoded data removed]",
      "text/plain": [
       "<Figure size 640x480 with 1 Axes>"
      ]
     },
     "metadata": {},
     "output_type": "display_data"
    }
   ],
   "source": [
    "# Plot training and validation loss\n",
    "plt.plot(train_loss, label='train loss')\n",
    "plt.plot(val_loss, label='validation loss')\n",
    "\n",
    "# Graph chars\n",
    "plt.title('Training history')\n",
    "plt.ylabel('Loss')\n",
    "plt.xlabel('Epoch')\n",
    "plt.legend()\n",
    "plt.ylim([0, 9]);"
   ]
  },
  {
   "cell_type": "markdown",
   "metadata": {},
   "source": [
    "## Тестируем модель"
   ]
  },
  {
   "cell_type": "code",
   "execution_count": null,
   "metadata": {},
   "outputs": [
    {
     "data": {
      "text/plain": [
       "<All keys matched successfully>"
      ]
     },
     "execution_count": 81,
     "metadata": {},
     "output_type": "execute_result"
    }
   ],
   "source": [
    "model.load_state_dict(torch.load('working/quads/best.pt'))"
   ]
  },
  {
   "cell_type": "code",
   "execution_count": null,
   "metadata": {},
   "outputs": [
    {
     "data": {
      "text/plain": [
       "(0.9305555555555556, 0.9648148148148148)"
      ]
     },
     "execution_count": 83,
     "metadata": {},
     "output_type": "execute_result"
    }
   ],
   "source": [
    "\n",
    "intent_acc, subintent_acc, slot_acc, _ = eval_model(\n",
    "  model.to(device),\n",
    "  test_data_loader,\n",
    "  loss_fn,\n",
    "  device,\n",
    "  len(test_df)\n",
    ")\n",
    "\n",
    "intent_acc.item(), slot_acc.item()"
   ]
  },
  {
   "cell_type": "code",
   "execution_count": null,
   "metadata": {},
   "outputs": [],
   "source": [
    "def get_predictions(model, data_loader):\n",
    "    model = model.eval()\n",
    "\n",
    "    queries = []\n",
    "    intent_predictions = []\n",
    "    intent_prediction_probs = []\n",
    "    subintent_predictions = []\n",
    "    subintent_predictions_probs = []\n",
    "    slot_predictions = []\n",
    "    slot_prediction_probs = []\n",
    "    real_intent_values = []\n",
    "    real_subintent_values = []\n",
    "    real_slot_values = []\n",
    "\n",
    "    with torch.no_grad():\n",
    "        for d in data_loader:\n",
    "            texts = d[\"query\"]\n",
    "            input_ids = d[\"input_ids\"].to(device)\n",
    "            attention_mask = d[\"attention_mask\"].to(device)\n",
    "            intent_targets = d[\"intents\"].to(device)\n",
    "            subintent_targets = d[\"subintents\"].to(device)\n",
    "            slot_targets = d[\"slots\"].to(device)\n",
    "\n",
    "            # Get outouts\n",
    "            outputs = model(\n",
    "                input_ids=input_ids,\n",
    "                attention_mask=attention_mask\n",
    "            )\n",
    "            \n",
    "            _, intent_pred = torch.max(outputs['intent'], dim=1)\n",
    "            \n",
    "            _, subintent_pred = torch.max(outputs['subintent'], dim=1)\n",
    "\n",
    "            _, slot_pred = torch.max(outputs['slot'], dim=2)\n",
    "\n",
    "            queries.extend(texts)\n",
    "            intent_predictions.extend(intent_pred)\n",
    "            intent_prediction_probs.extend(outputs['intent'])\n",
    "            subintent_predictions.extend(subintent_pred)\n",
    "            subintent_predictions_probs.extend(output['subintent'])\n",
    "            slot_predictions.extend(slot_pred)\n",
    "            slot_prediction_probs.extend(outputs['slot'])\n",
    "            real_intent_values.extend(intent_targets)\n",
    "            real_subintent_values.extend(subintent_targets)\n",
    "            real_slot_values.extend(slot_targets)\n",
    "\n",
    "    intent_predictions = torch.stack(intent_predictions).cpu()\n",
    "    intent_prediction_probs = torch.stack(intent_prediction_probs).cpu()\n",
    "    slot_predictions = torch.stack(slot_predictions).cpu()\n",
    "    slot_prediction_probs = torch.stack(slot_prediction_probs).cpu()\n",
    "    real_intent_values = torch.stack(real_intent_values).cpu()\n",
    "    real_slot_values = torch.stack(real_slot_values).cpu()\n",
    "\n",
    "    return queries, intent_predictions, intent_prediction_probs, \\\n",
    "        subintent_predictions, subintent_predictions_probs, slot_predictions, \\\n",
    "        slot_prediction_probs, real_intent_values, real_subintent_values, real_slot_values"
   ]
  },
  {
   "cell_type": "code",
   "execution_count": null,
   "metadata": {},
   "outputs": [],
   "source": [
    "y_review_texts, y_intent_pred, y_intent_pred_probs, y_subintent_pred, \\\n",
    "y_subintent_pred_probs, y_slot_pred, y_slot_pred_probs, y_intent_test, y_subintent_test, \\\n",
    "y_slot_test = get_predictions(\n",
    "    model,\n",
    "    test_data_loader\n",
    ")"
   ]
  },
  {
   "cell_type": "code",
   "execution_count": null,
   "metadata": {},
   "outputs": [
    {
     "name": "stdout",
     "output_type": "stream",
     "text": [
      "Intent Detection Report:\n",
      "              precision    recall  f1-score   support\n",
      "\n",
      "           0       0.95      0.98      0.97        60\n",
      "           1       0.98      0.95      0.97        60\n",
      "           2       0.95      0.98      0.97        60\n",
      "           3       1.00      0.70      0.82        60\n",
      "           4       1.00      0.97      0.98        60\n",
      "           5       0.77      1.00      0.87        60\n",
      "\n",
      "    accuracy                           0.93       360\n",
      "   macro avg       0.94      0.93      0.93       360\n",
      "weighted avg       0.94      0.93      0.93       360\n",
      "\n"
     ]
    }
   ],
   "source": [
    "intent_report = classification_report(y_intent_test, y_intent_pred)\n",
    "print(\"Intent Detection Report:\")\n",
    "print(intent_report)"
   ]
  },
  {
   "cell_type": "code",
   "execution_count": null,
   "metadata": {},
   "outputs": [
    {
     "name": "stdout",
     "output_type": "stream",
     "text": [
      "Sub intent Detection Report:\n",
      "              precision    recall  f1-score   support\n",
      "\n",
      "           0       0.05      1.00      0.09         3\n",
      "           1       0.00      0.00      0.00         4\n",
      "           2       0.00      0.00      0.00         3\n",
      "           3       0.00      0.00      0.00         6\n",
      "           4       0.00      0.00      0.00         2\n",
      "           5       0.00      0.00      0.00         5\n",
      "           6       0.00      0.00      0.00         3\n",
      "           7       0.00      0.00      0.00         2\n",
      "           8       0.00      0.00      0.00         3\n",
      "           9       0.00      0.00      0.00         5\n",
      "          10       0.00      0.00      0.00         5\n",
      "          11       0.00      0.00      0.00         4\n",
      "          12       0.00      0.00      0.00         4\n",
      "          13       0.00      0.00      0.00         3\n",
      "          14       0.00      0.00      0.00         4\n",
      "          15       0.00      0.00      0.00         5\n",
      "          16       0.00      0.00      0.00         6\n",
      "          17       0.00      0.00      0.00        12\n",
      "          18       0.00      0.00      0.00        16\n",
      "          19       0.00      0.00      0.00        12\n",
      "          20       0.00      0.00      0.00         5\n",
      "          21       0.00      0.00      0.00         8\n",
      "          22       0.00      0.00      0.00        20\n",
      "          23       0.00      0.00      0.00         8\n",
      "          24       0.00      0.00      0.00        19\n",
      "          25       0.00      0.00      0.00         6\n",
      "          26       0.00      0.00      0.00         7\n",
      "          27       0.00      0.00      0.00        26\n",
      "          28       0.00      0.00      0.00        10\n",
      "          29       0.00      0.00      0.00        10\n",
      "          30       0.00      0.00      0.00        14\n",
      "          31       0.00      0.00      0.00         8\n",
      "          32       0.00      0.00      0.00         9\n",
      "          33       0.00      0.00      0.00         3\n",
      "          34       0.00      0.00      0.00         1\n",
      "          35       0.00      0.00      0.00         9\n",
      "          36       0.00      0.00      0.00         9\n",
      "          37       0.00      0.00      0.00        15\n",
      "          38       0.00      0.00      0.00         6\n",
      "          39       0.00      0.00      0.00        11\n",
      "          40       0.00      0.00      0.00         4\n",
      "          41       0.00      0.00      0.00        10\n",
      "          42       0.00      0.00      0.00        12\n",
      "          43       0.00      0.00      0.00         8\n",
      "          44       0.00      0.00      0.00        13\n",
      "          45       0.00      0.00      0.00         2\n",
      "\n",
      "    accuracy                           0.01       360\n",
      "   macro avg       0.00      0.02      0.00       360\n",
      "weighted avg       0.00      0.01      0.00       360\n",
      "\n"
     ]
    }
   ],
   "source": [
    "subintent_report = classification_report(y_subintent_test, y_intent_pred)\n",
    "print(\"Sub intent Detection Report:\")\n",
    "print(subintent_report)"
   ]
  },
  {
   "cell_type": "code",
   "execution_count": null,
   "metadata": {},
   "outputs": [
    {
     "name": "stdout",
     "output_type": "stream",
     "text": [
      "Slot Filling Report:\n",
      "{'0': {'precision': 0.0, 'recall': 0.0, 'f1-score': 0.0, 'support': 1}, '1': {'precision': 0.36363636363636365, 'recall': 1.0, 'f1-score': 0.5333333333333333, 'support': 4}, '2': {'precision': 1.0, 'recall': 0.14285714285714285, 'f1-score': 0.25, 'support': 7}, '3': {'precision': 0.125, 'recall': 0.2, 'f1-score': 0.15384615384615385, 'support': 10}, '4': {'precision': 1.0, 'recall': 1.0, 'f1-score': 1.0, 'support': 1}, '5': {'precision': 1.0, 'recall': 0.15789473684210525, 'f1-score': 0.2727272727272727, 'support': 19}, '6': {'precision': 0.8947368421052632, 'recall': 1.0, 'f1-score': 0.9444444444444444, 'support': 17}, '7': {'precision': 0.0, 'recall': 0.0, 'f1-score': 0.0, 'support': 9}, '8': {'precision': 0.4166666666666667, 'recall': 0.8333333333333334, 'f1-score': 0.5555555555555556, 'support': 12}, '9': {'precision': 1.0, 'recall': 0.3333333333333333, 'f1-score': 0.5, 'support': 6}, '10': {'precision': 0.0, 'recall': 0.0, 'f1-score': 0.0, 'support': 2}, '11': {'precision': 0.65625, 'recall': 0.7777777777777778, 'f1-score': 0.711864406779661, 'support': 27}, '12': {'precision': 0.9523809523809523, 'recall': 1.0, 'f1-score': 0.975609756097561, 'support': 60}, '13': {'precision': 0.2857142857142857, 'recall': 1.0, 'f1-score': 0.4444444444444445, 'support': 2}, '14': {'precision': 1.0, 'recall': 1.0, 'f1-score': 1.0, 'support': 5}, '15': {'precision': 0.0, 'recall': 0.0, 'f1-score': 0.0, 'support': 2}, '16': {'precision': 1.0, 'recall': 1.0, 'f1-score': 1.0, 'support': 2}, '17': {'precision': 0.0, 'recall': 0.0, 'f1-score': 0.0, 'support': 5}, '18': {'precision': 0.9996804090763822, 'recall': 0.9998401789995205, 'f1-score': 0.9997602876548143, 'support': 6257}, '19': {'precision': 0.6363636363636364, 'recall': 0.5, 'f1-score': 0.56, 'support': 28}, '20': {'precision': 0.375, 'recall': 0.75, 'f1-score': 0.5, 'support': 4}, '21': {'precision': 0.675, 'recall': 0.8709677419354839, 'f1-score': 0.7605633802816901, 'support': 31}, '22': {'precision': 0.6666666666666666, 'recall': 0.2, 'f1-score': 0.30769230769230765, 'support': 20}, '23': {'precision': 0.5, 'recall': 0.5, 'f1-score': 0.5, 'support': 2}, '24': {'precision': 1.0, 'recall': 0.1, 'f1-score': 0.18181818181818182, 'support': 10}, '25': {'precision': 0.9650735294117647, 'recall': 0.9668508287292817, 'f1-score': 0.965961361545538, 'support': 1629}, '26': {'precision': 0.8958333333333334, 'recall': 0.9772727272727273, 'f1-score': 0.9347826086956522, 'support': 44}, '27': {'precision': 0.8947368421052632, 'recall': 0.5151515151515151, 'f1-score': 0.6538461538461537, 'support': 33}, '28': {'precision': 0.5, 'recall': 0.23529411764705882, 'f1-score': 0.31999999999999995, 'support': 17}, '29': {'precision': 0.0, 'recall': 0.0, 'f1-score': 0.0, 'support': 24}, '30': {'precision': 0.6666666666666666, 'recall': 0.9032258064516129, 'f1-score': 0.7671232876712328, 'support': 31}, '31': {'precision': 0.8947368421052632, 'recall': 0.9714285714285714, 'f1-score': 0.9315068493150684, 'support': 35}, '32': {'precision': 0.5074626865671642, 'recall': 0.9714285714285714, 'f1-score': 0.6666666666666667, 'support': 35}, '33': {'precision': 0.5, 'recall': 0.25, 'f1-score': 0.3333333333333333, 'support': 4}, '34': {'precision': 0.8, 'recall': 0.8, 'f1-score': 0.8000000000000002, 'support': 5}, '35': {'precision': 0.16666666666666666, 'recall': 0.5, 'f1-score': 0.25, 'support': 2}, '36': {'precision': 0.8, 'recall': 0.5, 'f1-score': 0.6153846153846154, 'support': 8}, '37': {'precision': 0.4482758620689655, 'recall': 0.5909090909090909, 'f1-score': 0.5098039215686274, 'support': 22}, '38': {'precision': 0.5, 'recall': 0.125, 'f1-score': 0.2, 'support': 8}, '39': {'precision': 0.0, 'recall': 0.0, 'f1-score': 0.0, 'support': 2}, '40': {'precision': 0.0, 'recall': 0.0, 'f1-score': 0.0, 'support': 3}, '41': {'precision': 0.7878787878787878, 'recall': 0.9811320754716981, 'f1-score': 0.8739495798319327, 'support': 53}, '42': {'precision': 0.49514563106796117, 'recall': 0.9622641509433962, 'f1-score': 0.6538461538461539, 'support': 53}, '43': {'precision': 0.7142857142857143, 'recall': 0.8333333333333334, 'f1-score': 0.7692307692307692, 'support': 6}, '44': {'precision': 1.0, 'recall': 0.3333333333333333, 'f1-score': 0.5, 'support': 6}, '45': {'precision': 0.0, 'recall': 0.0, 'f1-score': 0.0, 'support': 3}, '46': {'precision': 0.5, 'recall': 0.5, 'f1-score': 0.5, 'support': 4}, '47': {'precision': 1.0, 'recall': 0.125, 'f1-score': 0.2222222222222222, 'support': 8}, '48': {'precision': 0.9285714285714286, 'recall': 0.6842105263157895, 'f1-score': 0.7878787878787878, 'support': 19}, '49': {'precision': 0.0, 'recall': 0.0, 'f1-score': 0.0, 'support': 8}, '50': {'precision': 1.0, 'recall': 0.8571428571428571, 'f1-score': 0.923076923076923, 'support': 7}, '51': {'precision': 1.0, 'recall': 0.1, 'f1-score': 0.18181818181818182, 'support': 10}, '52': {'precision': 1.0, 'recall': 0.2727272727272727, 'f1-score': 0.42857142857142855, 'support': 11}, '53': {'precision': 0.0, 'recall': 0.0, 'f1-score': 0.0, 'support': 2}, '54': {'precision': 0.7142857142857143, 'recall': 1.0, 'f1-score': 0.8333333333333333, 'support': 5}, 'accuracy': 0.9648148148148148, 'macro avg': {'precision': 0.5859402823204529, 'recall': 0.5149401640611784, 'f1-score': 0.48679992186385523, 'support': 8640}, 'weighted avg': {'precision': 0.9654296355055783, 'recall': 0.9648148148148148, 'f1-score': 0.9604381220329091, 'support': 8640}}\n"
     ]
    }
   ],
   "source": [
    "slot_report = classification_report(y_slot_test.view(-1), y_slot_pred.view(-1), \n",
    "                                    output_dict=True)\n",
    "print(\"Slot Filling Report:\")\n",
    "print(slot_report)"
   ]
  },
  {
   "cell_type": "code",
   "execution_count": null,
   "metadata": {},
   "outputs": [
    {
     "data": {
      "text/html": [
       "<div>\n",
       "<style scoped>\n",
       "    .dataframe tbody tr th:only-of-type {\n",
       "        vertical-align: middle;\n",
       "    }\n",
       "\n",
       "    .dataframe tbody tr th {\n",
       "        vertical-align: top;\n",
       "    }\n",
       "\n",
       "    .dataframe thead th {\n",
       "        text-align: right;\n",
       "    }\n",
       "</style>\n",
       "<table border=\"1\" class=\"dataframe\">\n",
       "  <thead>\n",
       "    <tr style=\"text-align: right;\">\n",
       "      <th></th>\n",
       "      <th>0</th>\n",
       "      <th>1</th>\n",
       "      <th>2</th>\n",
       "      <th>3</th>\n",
       "      <th>4</th>\n",
       "      <th>5</th>\n",
       "      <th>6</th>\n",
       "      <th>7</th>\n",
       "      <th>8</th>\n",
       "      <th>9</th>\n",
       "      <th>...</th>\n",
       "      <th>48</th>\n",
       "      <th>49</th>\n",
       "      <th>50</th>\n",
       "      <th>51</th>\n",
       "      <th>52</th>\n",
       "      <th>53</th>\n",
       "      <th>54</th>\n",
       "      <th>accuracy</th>\n",
       "      <th>macro avg</th>\n",
       "      <th>weighted avg</th>\n",
       "    </tr>\n",
       "  </thead>\n",
       "  <tbody>\n",
       "    <tr>\n",
       "      <th>precision</th>\n",
       "      <td>0.0</td>\n",
       "      <td>0.363636</td>\n",
       "      <td>1.000000</td>\n",
       "      <td>0.125000</td>\n",
       "      <td>1.0</td>\n",
       "      <td>1.000000</td>\n",
       "      <td>0.894737</td>\n",
       "      <td>0.0</td>\n",
       "      <td>0.416667</td>\n",
       "      <td>1.000000</td>\n",
       "      <td>...</td>\n",
       "      <td>0.928571</td>\n",
       "      <td>0.0</td>\n",
       "      <td>1.000000</td>\n",
       "      <td>1.000000</td>\n",
       "      <td>1.000000</td>\n",
       "      <td>0.0</td>\n",
       "      <td>0.714286</td>\n",
       "      <td>0.964815</td>\n",
       "      <td>0.58594</td>\n",
       "      <td>0.965430</td>\n",
       "    </tr>\n",
       "    <tr>\n",
       "      <th>recall</th>\n",
       "      <td>0.0</td>\n",
       "      <td>1.000000</td>\n",
       "      <td>0.142857</td>\n",
       "      <td>0.200000</td>\n",
       "      <td>1.0</td>\n",
       "      <td>0.157895</td>\n",
       "      <td>1.000000</td>\n",
       "      <td>0.0</td>\n",
       "      <td>0.833333</td>\n",
       "      <td>0.333333</td>\n",
       "      <td>...</td>\n",
       "      <td>0.684211</td>\n",
       "      <td>0.0</td>\n",
       "      <td>0.857143</td>\n",
       "      <td>0.100000</td>\n",
       "      <td>0.272727</td>\n",
       "      <td>0.0</td>\n",
       "      <td>1.000000</td>\n",
       "      <td>0.964815</td>\n",
       "      <td>0.51494</td>\n",
       "      <td>0.964815</td>\n",
       "    </tr>\n",
       "    <tr>\n",
       "      <th>f1-score</th>\n",
       "      <td>0.0</td>\n",
       "      <td>0.533333</td>\n",
       "      <td>0.250000</td>\n",
       "      <td>0.153846</td>\n",
       "      <td>1.0</td>\n",
       "      <td>0.272727</td>\n",
       "      <td>0.944444</td>\n",
       "      <td>0.0</td>\n",
       "      <td>0.555556</td>\n",
       "      <td>0.500000</td>\n",
       "      <td>...</td>\n",
       "      <td>0.787879</td>\n",
       "      <td>0.0</td>\n",
       "      <td>0.923077</td>\n",
       "      <td>0.181818</td>\n",
       "      <td>0.428571</td>\n",
       "      <td>0.0</td>\n",
       "      <td>0.833333</td>\n",
       "      <td>0.964815</td>\n",
       "      <td>0.48680</td>\n",
       "      <td>0.960438</td>\n",
       "    </tr>\n",
       "    <tr>\n",
       "      <th>support</th>\n",
       "      <td>1.0</td>\n",
       "      <td>4.000000</td>\n",
       "      <td>7.000000</td>\n",
       "      <td>10.000000</td>\n",
       "      <td>1.0</td>\n",
       "      <td>19.000000</td>\n",
       "      <td>17.000000</td>\n",
       "      <td>9.0</td>\n",
       "      <td>12.000000</td>\n",
       "      <td>6.000000</td>\n",
       "      <td>...</td>\n",
       "      <td>19.000000</td>\n",
       "      <td>8.0</td>\n",
       "      <td>7.000000</td>\n",
       "      <td>10.000000</td>\n",
       "      <td>11.000000</td>\n",
       "      <td>2.0</td>\n",
       "      <td>5.000000</td>\n",
       "      <td>0.964815</td>\n",
       "      <td>8640.00000</td>\n",
       "      <td>8640.000000</td>\n",
       "    </tr>\n",
       "  </tbody>\n",
       "</table>\n",
       "<p>4 rows × 58 columns</p>\n",
       "</div>"
      ],
      "text/plain": [
       "             0         1         2          3    4          5          6    7  \\\n",
       "precision  0.0  0.363636  1.000000   0.125000  1.0   1.000000   0.894737  0.0   \n",
       "recall     0.0  1.000000  0.142857   0.200000  1.0   0.157895   1.000000  0.0   \n",
       "f1-score   0.0  0.533333  0.250000   0.153846  1.0   0.272727   0.944444  0.0   \n",
       "support    1.0  4.000000  7.000000  10.000000  1.0  19.000000  17.000000  9.0   \n",
       "\n",
       "                   8         9  ...         48   49        50         51  \\\n",
       "precision   0.416667  1.000000  ...   0.928571  0.0  1.000000   1.000000   \n",
       "recall      0.833333  0.333333  ...   0.684211  0.0  0.857143   0.100000   \n",
       "f1-score    0.555556  0.500000  ...   0.787879  0.0  0.923077   0.181818   \n",
       "support    12.000000  6.000000  ...  19.000000  8.0  7.000000  10.000000   \n",
       "\n",
       "                  52   53        54  accuracy   macro avg  weighted avg  \n",
       "precision   1.000000  0.0  0.714286  0.964815     0.58594      0.965430  \n",
       "recall      0.272727  0.0  1.000000  0.964815     0.51494      0.964815  \n",
       "f1-score    0.428571  0.0  0.833333  0.964815     0.48680      0.960438  \n",
       "support    11.000000  2.0  5.000000  0.964815  8640.00000   8640.000000  \n",
       "\n",
       "[4 rows x 58 columns]"
      ]
     },
     "execution_count": 102,
     "metadata": {},
     "output_type": "execute_result"
    }
   ],
   "source": [
    "df_slot_report = pd.DataFrame(slot_report)\n",
    "df_slot_report.head()"
   ]
  },
  {
   "cell_type": "code",
   "execution_count": null,
   "metadata": {},
   "outputs": [
    {
     "data": {
      "text/plain": [
       "<AxesSubplot: >"
      ]
     },
     "execution_count": 103,
     "metadata": {},
     "output_type": "execute_result"
    },
    {
     "data": {
      "image/png": "[encoded data removed]",
      "text/plain": [
       "<Figure size 640x480 with 1 Axes>"
      ]
     },
     "metadata": {},
     "output_type": "display_data"
    }
   ],
   "source": [
    "df_slot_report.loc['precision'].hist()"
   ]
  },
  {
   "cell_type": "code",
   "execution_count": null,
   "metadata": {},
   "outputs": [
    {
     "data": {
      "text/plain": [
       "<AxesSubplot: >"
      ]
     },
     "execution_count": 104,
     "metadata": {},
     "output_type": "execute_result"
    },
    {
     "data": {
      "image/png": "[encoded data removed]",
      "text/plain": [
       "<Figure size 640x480 with 1 Axes>"
      ]
     },
     "metadata": {},
     "output_type": "display_data"
    }
   ],
   "source": [
    "df_slot_report.loc['recall'].hist()"
   ]
  },
  {
   "cell_type": "code",
   "execution_count": null,
   "metadata": {},
   "outputs": [
    {
     "data": {
      "text/plain": [
       "<AxesSubplot: xlabel='support', ylabel='f1-score'>"
      ]
     },
     "execution_count": 120,
     "metadata": {},
     "output_type": "execute_result"
    },
    {
     "data": {
      "image/png": "[encoded data removed]",
      "text/plain": [
       "<Figure size 640x480 with 1 Axes>"
      ]
     },
     "metadata": {},
     "output_type": "display_data"
    }
   ],
   "source": [
    "df_slot_report.drop(labels=['accuracy', 'macro avg', 'weighted avg'], axis=1) \\\n",
    "    .T.query('support < 100').plot(x='support', y='f1-score', kind='scatter')"
   ]
  },
  {
   "cell_type": "code",
   "execution_count": null,
   "metadata": {},
   "outputs": [
    {
     "data": {
      "text/plain": [
       "<AxesSubplot: xlabel='support', ylabel='recall'>"
      ]
     },
     "execution_count": 121,
     "metadata": {},
     "output_type": "execute_result"
    },
    {
     "data": {
      "image/png": "[encoded data removed]",
      "text/plain": [
       "<Figure size 640x480 with 1 Axes>"
      ]
     },
     "metadata": {},
     "output_type": "display_data"
    }
   ],
   "source": [
    "df_slot_report.drop(labels=['accuracy', 'macro avg', 'weighted avg'], axis=1) \\\n",
    "    .T.query('support < 100').plot(x='support', y='recall', kind='scatter')"
   ]
  },
  {
   "cell_type": "code",
   "execution_count": null,
   "metadata": {},
   "outputs": [
    {
     "data": {
      "image/png": "[encoded data removed]",
      "text/plain": [
       "<Figure size 1000x700 with 2 Axes>"
      ]
     },
     "metadata": {},
     "output_type": "display_data"
    }
   ],
   "source": [
    "it = sorted(list(intent_ids.keys()))\n",
    "def show_intent_confusion_matrix(intent_confusion_matrix):\n",
    "    hmap = sns.heatmap(intent_confusion_matrix, annot=True, fmt=\"d\", cmap=\"Blues\")\n",
    "    hmap.yaxis.set_ticklabels(hmap.yaxis.get_ticklabels(), rotation=0, ha='right')\n",
    "    hmap.xaxis.set_ticklabels(hmap.xaxis.get_ticklabels(), rotation=30, ha='right')\n",
    "    plt.ylabel('True Intent')\n",
    "    plt.xlabel('Predicted Intent')\n",
    "\n",
    "intent_cm = confusion_matrix(y_intent_test, y_intent_pred, labels=it)\n",
    "intent_df_cm = pd.DataFrame(intent_cm, index=it, columns=it)\n",
    "plt.figure(figsize=(10, 7))\n",
    "plt.title('Intent Detection Confusion Matrix')\n",
    "show_intent_confusion_matrix(intent_df_cm)\n",
    "plt.show()"
   ]
  },
  {
   "cell_type": "code",
   "execution_count": null,
   "metadata": {},
   "outputs": [
    {
     "data": {
      "text/plain": [
       "{0: 'B_agricultural_process_output',\n",
       " 1: 'B-agrochemical_shelflife',\n",
       " 2: 'B-crop_cost_price',\n",
       " 3: 'B-machinery_price',\n",
       " 4: 'B-animal_maintenance',\n",
       " 5: 'B-animal_byproduct',\n",
       " 6: 'B-agrochemical_price',\n",
       " 7: 'B-animal_cost_price',\n",
       " 8: 'B-land_cost',\n",
       " 9: 'B-animal_reproduction',\n",
       " 10: 'B-crop_weather',\n",
       " 11: 'B-agrochemical_usecase',\n",
       " 12: 'B-agrochemical_type',\n",
       " 13: 'B-agrochemical_adv',\n",
       " 14: 'B-crop_selling_price',\n",
       " 15: 'B-method_yield',\n",
       " 16: 'B-animal_weight',\n",
       " 17: 'B-crop_soil_type',\n",
       " 18: 'B-crop_humidity',\n",
       " 19: 'B-method_requirements',\n",
       " 20: 'B-method_adv',\n",
       " 21: 'B-land_soil_type',\n",
       " 22: 'B-machinery_general_info',\n",
       " 23: 'B-animal_diseases',\n",
       " 24: 'B-agricultural_process_sub_type',\n",
       " 25: 'O',\n",
       " 26: 'B-method_type',\n",
       " 27: 'B-machinery_agricultural_process',\n",
       " 28: 'B-method_duration',\n",
       " 29: 'B-method-subtype',\n",
       " 30: 'B-crop_growth_time',\n",
       " 31: 'B-machinery_type',\n",
       " 32: 'B-crop_name',\n",
       " 33: 'B-method_use',\n",
       " 34: 'B-method_helpline',\n",
       " 35: 'B-animal_lifespan',\n",
       " 36: 'B-machinery_maintenance_cost',\n",
       " 37: 'B-agricultural_process_adv',\n",
       " 38: 'B-crop_rainfall',\n",
       " 39: 'B-method_disadv',\n",
       " 40: 'B-land_area',\n",
       " 41: 'B-animal_type',\n",
       " 42: 'B-agricultural_process_type',\n",
       " 43: 'B-agrochemical_dosage',\n",
       " 44: 'B-animal_selling_price',\n",
       " 45: 'B-agricultural_process_disadv',\n",
       " 46: 'B-method_investment_cost',\n",
       " 47: 'B-machinery_shelf_life',\n",
       " 48: 'B-agrochemical_ingredients',\n",
       " 49: 'B-machinery_subtype',\n",
       " 50: 'B-animal_diet',\n",
       " 51: 'B-agriculture_process_duration',\n",
       " 52: 'B_agricultural_process_requirement',\n",
       " 53: 'B-crop_temperature',\n",
       " 54: 'B-agrochemical_disadv'}"
      ]
     },
     "execution_count": 175,
     "metadata": {},
     "output_type": "execute_result"
    }
   ],
   "source": [
    "slots_ids"
   ]
  },
  {
   "cell_type": "code",
   "execution_count": null,
   "metadata": {},
   "outputs": [
    {
     "name": "stdout",
     "output_type": "stream",
     "text": [
      "[101, 2054, 2003, 1996, 7915, 1998, 10036, 4355, 16358, 2008, 2064, 4287, 14695, 102]\n"
     ]
    },
    {
     "name": "stdout",
     "output_type": "stream",
     "text": [
      "Запрос: What is the fastest and cheapest tractor that can carry pigs\n",
      "Токены: ['[CLS]', 'what', 'is', 'the', 'fastest', 'and', 'cheap', '##est', 'tractor', 'that', 'can', 'carry', 'pigs', '[SEP]']\n",
      "Намерение: animal_husbandry\n",
      "Поднамерение: pig_farming\n",
      "14 14\n",
      "Слоты:\n",
      "[CLS]:\t\tB-crop_humidity\n",
      "what:\t\tO\n",
      "is:\t\tO\n",
      "the:\t\tO\n",
      "fastest:\t\tO\n",
      "and:\t\tO\n",
      "cheap:\t\tB-land_cost\n",
      "##est:\t\tB-crop_humidity\n",
      "tractor:\t\tB-machinery_type\n",
      "that:\t\tO\n",
      "can:\t\tO\n",
      "carry:\t\tO\n",
      "pigs:\t\tB-animal_type\n",
      "[SEP]:\t\tB-crop_humidity\n"
     ]
    }
   ],
   "source": [
    "query = 'What is the fastest and cheapest tractor that can carry pigs'\n",
    "tokens_encoded = tokenizer.encode_plus(query, return_tensors='pt')\n",
    "print(tokens_encoded['input_ids'].flatten().tolist())\n",
    "tokens = [tokenizer.decode(i).replace(' ', '') for i in \n",
    "          tokens_encoded['input_ids'].flatten().tolist()]\n",
    "output = model(tokens_encoded['input_ids'].to(device), \n",
    "               tokens_encoded['attention_mask'].to(device))\n",
    "\n",
    "_, intent_prediction = torch.max(output['intent'], dim=1)\n",
    "_, subintent_prediction = torch.max(output['subintent'], dim=1)\n",
    "_, slot_prediction = torch.max(output['slot'], dim=2)\n",
    "\n",
    "print('Запрос:', query)\n",
    "print('Токены:', tokens)\n",
    "print('Намерение:', intent_ids[intent_prediction.flatten().tolist()[0]])\n",
    "print('Поднамерение:', subintent_ids[subintent_prediction.flatten().tolist()[0]])\n",
    "slot_labels = [slots_ids[i] for i in slot_prediction.flatten().tolist()]\n",
    "print(len(slot_labels), len(tokens))\n",
    "print('Слоты:')\n",
    "for i in range(len(tokens)):\n",
    "    print(f'{tokens[i]}:\\t\\t{slot_labels[i]}')"
   ]
  }
 ],
 "metadata": {
  "kernelspec": {
   "display_name": "venv",
   "language": "python",
   "name": "python3"
  },
  "language_info": {
   "codemirror_mode": {
    "name": "ipython",
    "version": 3
   },
   "file_extension": ".py",
   "mimetype": "text/x-python",
   "name": "python",
   "nbconvert_exporter": "python",
   "pygments_lexer": "ipython3",
   "version": "3.11.2"
  }
 },
 "nbformat": 4,
 "nbformat_minor": 2
}
